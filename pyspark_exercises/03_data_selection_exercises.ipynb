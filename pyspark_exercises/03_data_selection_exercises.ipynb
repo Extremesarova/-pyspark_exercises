{
 "cells": [
  {
   "cell_type": "markdown",
   "id": "d0754598",
   "metadata": {
    "id": "d0754598",
    "papermill": {
     "duration": 0.017668,
     "end_time": "2021-07-13T06:21:48.327709",
     "exception": false,
     "start_time": "2021-07-13T06:21:48.310041",
     "status": "completed"
    },
    "tags": []
   },
   "source": [
    "<center>\n",
    "    This is Set 3: Data Selection (Exercises 21-30)\n",
    "</center>"
   ]
  },
  {
   "cell_type": "markdown",
   "id": "39ac5f92",
   "metadata": {
    "id": "39ac5f92",
    "papermill": {
     "duration": 0.01749,
     "end_time": "2021-07-13T06:21:48.363013",
     "exception": false,
     "start_time": "2021-07-13T06:21:48.345523",
     "status": "completed"
    },
    "tags": []
   },
   "source": [
    "**Prerequisites**\n",
    "* The sample dataset [datatableton_sample.csv](https://github.com/vopani/datatableton/blob/main/data/datatableton_sample.csv) will be used for the exercises."
   ]
  },
  {
   "cell_type": "code",
   "execution_count": 96,
   "id": "21dab915",
   "metadata": {},
   "outputs": [],
   "source": [
    "from pyspark.sql import SparkSession\n",
    "from pyspark.sql.types import *\n",
    "import pyspark.sql.functions as F\n",
    "from pyspark.sql.window import Window\n"
   ]
  },
  {
   "cell_type": "code",
   "execution_count": null,
   "id": "dc50b113",
   "metadata": {},
   "outputs": [],
   "source": [
    "spark = SparkSession.builder.getOrCreate()\n"
   ]
  },
  {
   "cell_type": "code",
   "execution_count": 68,
   "id": "483e12a1",
   "metadata": {
    "id": "483e12a1",
    "outputId": "1298674c-b13f-4ce5-bbb3-7c0a39d0097f",
    "papermill": {
     "duration": 0.183177,
     "end_time": "2021-07-13T06:22:17.076054",
     "exception": false,
     "start_time": "2021-07-13T06:22:16.892877",
     "status": "completed"
    },
    "tags": []
   },
   "outputs": [
    {
     "name": "stdout",
     "output_type": "stream",
     "text": [
      "+-------------------+----+----+-------+--------+-----+--------+\n",
      "|          timestamp|user| age|product|category|price|quantity|\n",
      "+-------------------+----+----+-------+--------+-----+--------+\n",
      "|2017-01-01 13:22:41|  U1|  21|   Eggs|   Dairy|  2.3|       2|\n",
      "|2017-05-22 09:54:21|  U2|  41|  Bread|    null|  0.6|       2|\n",
      "|2018-11-09 15:00:01|  U3|null| Banana|   Fruit|  0.7|       1|\n",
      "|2018-12-24 23:03:33|  U1|  21|  Water|   Drink|  0.2|       1|\n",
      "|2019-03-03 06:21:58|  U4|  19|   Eggs|   Dairy|  2.3|       2|\n",
      "|2019-06-17 16:13:39|  U5|  25| Grapes|   Fruit|  1.5|       1|\n",
      "|2019-07-28 21:03:11|  U5|  25|  Bread|    null|  0.6|       1|\n",
      "|2019-12-05 04:15:42|  U1|  21| Banana|   Fruit|  0.7|       2|\n",
      "|2020-02-02 03:45:34|  U3|null| Banana|   Fruit|  0.7|       1|\n",
      "|2020-03-05 07:09:12|  U4|  19| Grapes|   Fruit|  1.5|       1|\n",
      "|2020-03-22 19:29:38|  U1|  21|  Water|   Drink|  0.2|       1|\n",
      "|2020-03-30 09:44:30|  U4|  19|  Water|   Drink|  0.2|       1|\n",
      "|2020-04-01 13:21:41|  U1|  21| Banana|   Fruit|  0.7|       2|\n",
      "|2020-07-08 11:45:25|  U2|  41| Grapes|   Fruit|  1.5|       1|\n",
      "|2020-11-19 18:51:22|  U5|  25|  Water|   Drink|  0.2|       1|\n",
      "|2020-12-03 16:23:48|  U3|null| Banana|   Fruit|  0.5|       3|\n",
      "|2021-02-03 01:14:40|  U5|  25|   Eggs|   Dairy|  2.1|       4|\n",
      "|2021-05-26 22:42:15|  U3|null|  Bread|    null|  0.6|       1|\n",
      "|2021-06-14 15:49:28|  U4|  19|   Eggs|   Dairy|  2.3|       2|\n",
      "|2021-07-01 04:37:31|  U4|  19|  Water|   Drink|  0.3|       1|\n",
      "+-------------------+----+----+-------+--------+-----+--------+\n",
      "\n"
     ]
    }
   ],
   "source": [
    "data = spark.read.options(header=True, inferSchema=True, nullValue=\"NA\").csv(\n",
    "    \"../data/datatableton_sample.csv\"\n",
    ")\n",
    "data.show()\n"
   ]
  },
  {
   "cell_type": "code",
   "execution_count": 70,
   "id": "4944de44",
   "metadata": {},
   "outputs": [
    {
     "name": "stdout",
     "output_type": "stream",
     "text": [
      "root\n",
      " |-- timestamp: timestamp (nullable = true)\n",
      " |-- user: string (nullable = true)\n",
      " |-- age: integer (nullable = true)\n",
      " |-- product: string (nullable = true)\n",
      " |-- category: string (nullable = true)\n",
      " |-- price: double (nullable = true)\n",
      " |-- quantity: integer (nullable = true)\n",
      "\n"
     ]
    }
   ],
   "source": [
    "data.printSchema()\n"
   ]
  },
  {
   "cell_type": "markdown",
   "id": "6ca4f445",
   "metadata": {
    "id": "6ca4f445",
    "papermill": {
     "duration": 0.029309,
     "end_time": "2021-07-13T06:22:17.133745",
     "exception": false,
     "start_time": "2021-07-13T06:22:17.104436",
     "status": "completed"
    },
    "tags": []
   },
   "source": [
    "**Exercise 21: Select the columns `user`, `product` and `quantity` from `data` and assign it to `data_upq` and select the `user` column from `data_upq` and assign it to `data_u`**"
   ]
  },
  {
   "cell_type": "code",
   "execution_count": 5,
   "id": "8d19d727",
   "metadata": {
    "id": "8d19d727",
    "papermill": {
     "duration": 0.029402,
     "end_time": "2021-07-13T06:22:17.186258",
     "exception": false,
     "start_time": "2021-07-13T06:22:17.156856",
     "status": "completed"
    },
    "tags": []
   },
   "outputs": [
    {
     "name": "stdout",
     "output_type": "stream",
     "text": [
      "+----+-------+--------+\n",
      "|user|product|quantity|\n",
      "+----+-------+--------+\n",
      "|  U1|   Eggs|       2|\n",
      "|  U2|  Bread|       2|\n",
      "|  U3| Banana|       1|\n",
      "|  U1|  Water|       1|\n",
      "|  U4|   Eggs|       2|\n",
      "|  U5| Grapes|       1|\n",
      "|  U5|  Bread|       1|\n",
      "|  U1| Banana|       2|\n",
      "|  U3| Banana|       1|\n",
      "|  U4| Grapes|       1|\n",
      "|  U1|  Water|       1|\n",
      "|  U4|  Water|       1|\n",
      "|  U1| Banana|       2|\n",
      "|  U2| Grapes|       1|\n",
      "|  U5|  Water|       1|\n",
      "|  U3| Banana|       3|\n",
      "|  U5|   Eggs|       4|\n",
      "|  U3|  Bread|       1|\n",
      "|  U4|   Eggs|       2|\n",
      "|  U4|  Water|       1|\n",
      "+----+-------+--------+\n",
      "\n"
     ]
    }
   ],
   "source": [
    "data_upq = data.select([\"user\", \"product\", \"quantity\"])\n",
    "data_upq.show()\n"
   ]
  },
  {
   "cell_type": "code",
   "execution_count": 6,
   "id": "0db7a5a5",
   "metadata": {
    "id": "0db7a5a5",
    "papermill": {
     "duration": 0.023768,
     "end_time": "2021-07-13T06:22:17.233672",
     "exception": false,
     "start_time": "2021-07-13T06:22:17.209904",
     "status": "completed"
    },
    "tags": []
   },
   "outputs": [
    {
     "name": "stdout",
     "output_type": "stream",
     "text": [
      "+----+\n",
      "|user|\n",
      "+----+\n",
      "|  U1|\n",
      "|  U2|\n",
      "|  U3|\n",
      "|  U1|\n",
      "|  U4|\n",
      "|  U5|\n",
      "|  U5|\n",
      "|  U1|\n",
      "|  U3|\n",
      "|  U4|\n",
      "|  U1|\n",
      "|  U4|\n",
      "|  U1|\n",
      "|  U2|\n",
      "|  U5|\n",
      "|  U3|\n",
      "|  U5|\n",
      "|  U3|\n",
      "|  U4|\n",
      "|  U4|\n",
      "+----+\n",
      "\n"
     ]
    }
   ],
   "source": [
    "data_u = data_upq.select(\"user\")\n",
    "data_u.show()\n"
   ]
  },
  {
   "cell_type": "markdown",
   "id": "42adcb4b",
   "metadata": {
    "id": "42adcb4b",
    "papermill": {
     "duration": 0.027044,
     "end_time": "2021-07-13T06:22:17.286592",
     "exception": false,
     "start_time": "2021-07-13T06:22:17.259548",
     "status": "completed"
    },
    "tags": []
   },
   "source": [
    "**Exercise 22: Select columns 2nd to 4th using indices from `data` and assign it to `data_c234`**"
   ]
  },
  {
   "cell_type": "code",
   "execution_count": 8,
   "id": "e047af44",
   "metadata": {
    "id": "e047af44",
    "papermill": {
     "duration": 0.032678,
     "end_time": "2021-07-13T06:22:17.342630",
     "exception": false,
     "start_time": "2021-07-13T06:22:17.309952",
     "status": "completed"
    },
    "tags": []
   },
   "outputs": [
    {
     "name": "stdout",
     "output_type": "stream",
     "text": [
      "+----+----+-------+\n",
      "|user| age|product|\n",
      "+----+----+-------+\n",
      "|  U1|  21|   Eggs|\n",
      "|  U2|  41|  Bread|\n",
      "|  U3|null| Banana|\n",
      "|  U1|  21|  Water|\n",
      "|  U4|  19|   Eggs|\n",
      "|  U5|  25| Grapes|\n",
      "|  U5|  25|  Bread|\n",
      "|  U1|  21| Banana|\n",
      "|  U3|null| Banana|\n",
      "|  U4|  19| Grapes|\n",
      "|  U1|  21|  Water|\n",
      "|  U4|  19|  Water|\n",
      "|  U1|  21| Banana|\n",
      "|  U2|  41| Grapes|\n",
      "|  U5|  25|  Water|\n",
      "|  U3|null| Banana|\n",
      "|  U5|  25|   Eggs|\n",
      "|  U3|null|  Bread|\n",
      "|  U4|  19|   Eggs|\n",
      "|  U4|  19|  Water|\n",
      "+----+----+-------+\n",
      "\n"
     ]
    }
   ],
   "source": [
    "data_c234 = data.select(data.columns[1:4])\n",
    "data_c234.show()\n"
   ]
  },
  {
   "cell_type": "markdown",
   "id": "c8b3f1a9",
   "metadata": {
    "id": "c8b3f1a9",
    "papermill": {
     "duration": 0.023018,
     "end_time": "2021-07-13T06:22:17.396710",
     "exception": false,
     "start_time": "2021-07-13T06:22:17.373692",
     "status": "completed"
    },
    "tags": []
   },
   "source": [
    "#### **Exercise 23: Select all string columns from `data` and assign it to `data_str`**"
   ]
  },
  {
   "cell_type": "code",
   "execution_count": 12,
   "id": "ed65e8f5",
   "metadata": {},
   "outputs": [
    {
     "name": "stdout",
     "output_type": "stream",
     "text": [
      "root\n",
      " |-- timestamp: timestamp (nullable = true)\n",
      " |-- user: string (nullable = true)\n",
      " |-- age: integer (nullable = true)\n",
      " |-- product: string (nullable = true)\n",
      " |-- category: string (nullable = true)\n",
      " |-- price: double (nullable = true)\n",
      " |-- quantity: integer (nullable = true)\n",
      "\n"
     ]
    }
   ],
   "source": [
    "data.printSchema()\n"
   ]
  },
  {
   "cell_type": "code",
   "execution_count": 15,
   "id": "ac86cc02",
   "metadata": {},
   "outputs": [
    {
     "data": {
      "text/plain": [
       "[('timestamp', 'timestamp'),\n",
       " ('user', 'string'),\n",
       " ('age', 'int'),\n",
       " ('product', 'string'),\n",
       " ('category', 'string'),\n",
       " ('price', 'double'),\n",
       " ('quantity', 'int')]"
      ]
     },
     "execution_count": 15,
     "metadata": {},
     "output_type": "execute_result"
    }
   ],
   "source": [
    "data.dtypes\n"
   ]
  },
  {
   "cell_type": "code",
   "execution_count": 16,
   "id": "94e62b84",
   "metadata": {
    "id": "94e62b84",
    "papermill": {
     "duration": 0.023554,
     "end_time": "2021-07-13T06:22:17.443382",
     "exception": false,
     "start_time": "2021-07-13T06:22:17.419828",
     "status": "completed"
    },
    "tags": []
   },
   "outputs": [
    {
     "name": "stdout",
     "output_type": "stream",
     "text": [
      "+----+-------+--------+\n",
      "|user|product|category|\n",
      "+----+-------+--------+\n",
      "|  U1|   Eggs|   Dairy|\n",
      "|  U2|  Bread|      NA|\n",
      "|  U3| Banana|   Fruit|\n",
      "|  U1|  Water|   Drink|\n",
      "|  U4|   Eggs|   Dairy|\n",
      "|  U5| Grapes|   Fruit|\n",
      "|  U5|  Bread|      NA|\n",
      "|  U1| Banana|   Fruit|\n",
      "|  U3| Banana|   Fruit|\n",
      "|  U4| Grapes|   Fruit|\n",
      "|  U1|  Water|   Drink|\n",
      "|  U4|  Water|   Drink|\n",
      "|  U1| Banana|   Fruit|\n",
      "|  U2| Grapes|   Fruit|\n",
      "|  U5|  Water|   Drink|\n",
      "|  U3| Banana|   Fruit|\n",
      "|  U5|   Eggs|   Dairy|\n",
      "|  U3|  Bread|      NA|\n",
      "|  U4|   Eggs|   Dairy|\n",
      "|  U4|  Water|   Drink|\n",
      "+----+-------+--------+\n",
      "\n"
     ]
    }
   ],
   "source": [
    "data_str = data.select(\n",
    "    [item[0] for item in data.dtypes if item[1].startswith(\"string\")]\n",
    ")\n",
    "data_str.show()\n"
   ]
  },
  {
   "cell_type": "markdown",
   "id": "b2f3487d",
   "metadata": {
    "id": "b2f3487d",
    "papermill": {
     "duration": 0.023222,
     "end_time": "2021-07-13T06:22:17.489740",
     "exception": false,
     "start_time": "2021-07-13T06:22:17.466518",
     "status": "completed"
    },
    "tags": []
   },
   "source": [
    "**Exercise 24: Select rows 4th and 1st from `data` and assign it to `data_r41`**"
   ]
  },
  {
   "cell_type": "code",
   "execution_count": 32,
   "id": "faab4ff1",
   "metadata": {
    "id": "faab4ff1",
    "papermill": {
     "duration": 0.023442,
     "end_time": "2021-07-13T06:22:17.536925",
     "exception": false,
     "start_time": "2021-07-13T06:22:17.513483",
     "status": "completed"
    },
    "tags": []
   },
   "outputs": [
    {
     "name": "stdout",
     "output_type": "stream",
     "text": [
      "+-------------------+----+---+-------+--------+-----+--------+\n",
      "|          timestamp|user|age|product|category|price|quantity|\n",
      "+-------------------+----+---+-------+--------+-----+--------+\n",
      "|2018-12-24 23:03:33|  U1| 21|  Water|   Drink|  0.2|       1|\n",
      "|2017-01-01 13:22:41|  U1| 21|   Eggs|   Dairy|  2.3|       2|\n",
      "+-------------------+----+---+-------+--------+-----+--------+\n",
      "\n"
     ]
    }
   ],
   "source": [
    "data_r41 = spark.createDataFrame([data.collect()[3], data.collect()[0]]).show()\n",
    "data_r41\n"
   ]
  },
  {
   "cell_type": "markdown",
   "id": "8c357f8d",
   "metadata": {
    "id": "8c357f8d",
    "papermill": {
     "duration": 0.02343,
     "end_time": "2021-07-13T06:22:17.583628",
     "exception": false,
     "start_time": "2021-07-13T06:22:17.560198",
     "status": "completed"
    },
    "tags": []
   },
   "source": [
    "**Exercise 25: Select the element in the 4th row and 2nd column in `data` and assign it to `value_1` and select the 3rd element of `category` column in `data` and assign it to `value_2`**"
   ]
  },
  {
   "cell_type": "code",
   "execution_count": 43,
   "id": "610e1df0",
   "metadata": {
    "id": "610e1df0",
    "papermill": {
     "duration": 0.023511,
     "end_time": "2021-07-13T06:22:17.630576",
     "exception": false,
     "start_time": "2021-07-13T06:22:17.607065",
     "status": "completed"
    },
    "tags": []
   },
   "outputs": [
    {
     "data": {
      "text/plain": [
       "'U1'"
      ]
     },
     "execution_count": 43,
     "metadata": {},
     "output_type": "execute_result"
    }
   ],
   "source": [
    "value_1 = data.collect()[3][1]\n",
    "value_1\n"
   ]
  },
  {
   "cell_type": "code",
   "execution_count": 53,
   "id": "3c178def",
   "metadata": {
    "id": "3c178def",
    "papermill": {
     "duration": 0.023369,
     "end_time": "2021-07-13T06:22:17.678137",
     "exception": false,
     "start_time": "2021-07-13T06:22:17.654768",
     "status": "completed"
    },
    "tags": []
   },
   "outputs": [
    {
     "data": {
      "text/plain": [
       "'Fruit'"
      ]
     },
     "execution_count": 53,
     "metadata": {},
     "output_type": "execute_result"
    }
   ],
   "source": [
    "value_2 = data.select(\"category\").collect()[2][0]\n",
    "value_2\n"
   ]
  },
  {
   "cell_type": "markdown",
   "id": "65e97f9d",
   "metadata": {
    "id": "65e97f9d",
    "papermill": {
     "duration": 0.026019,
     "end_time": "2021-07-13T06:22:17.729176",
     "exception": false,
     "start_time": "2021-07-13T06:22:17.703157",
     "status": "completed"
    },
    "tags": []
   },
   "source": [
    "**Exercise 26: Select rows from `data` where `category` is `Fruit` and assign it to `data_fruit` and select rows from `data_fruit` where `product` is `Banana` and `quantity` is more than 1 and assign it to `data_multi_banana`**"
   ]
  },
  {
   "cell_type": "code",
   "execution_count": 57,
   "id": "7e99c7c3",
   "metadata": {
    "id": "7e99c7c3",
    "papermill": {
     "duration": 0.024718,
     "end_time": "2021-07-13T06:22:17.779480",
     "exception": false,
     "start_time": "2021-07-13T06:22:17.754762",
     "status": "completed"
    },
    "tags": []
   },
   "outputs": [
    {
     "name": "stdout",
     "output_type": "stream",
     "text": [
      "+-------------------+----+----+-------+--------+-----+--------+\n",
      "|          timestamp|user| age|product|category|price|quantity|\n",
      "+-------------------+----+----+-------+--------+-----+--------+\n",
      "|2018-11-09 15:00:01|  U3|null| Banana|   Fruit|  0.7|       1|\n",
      "|2019-06-17 16:13:39|  U5|  25| Grapes|   Fruit|  1.5|       1|\n",
      "|2019-12-05 04:15:42|  U1|  21| Banana|   Fruit|  0.7|       2|\n",
      "|2020-02-02 03:45:34|  U3|null| Banana|   Fruit|  0.7|       1|\n",
      "|2020-03-05 07:09:12|  U4|  19| Grapes|   Fruit|  1.5|       1|\n",
      "|2020-04-01 13:21:41|  U1|  21| Banana|   Fruit|  0.7|       2|\n",
      "|2020-07-08 11:45:25|  U2|  41| Grapes|   Fruit|  1.5|       1|\n",
      "|2020-12-03 16:23:48|  U3|null| Banana|   Fruit|  0.5|       3|\n",
      "+-------------------+----+----+-------+--------+-----+--------+\n",
      "\n"
     ]
    }
   ],
   "source": [
    "data_fruit = data.where(data[\"category\"] == \"Fruit\")\n",
    "data_fruit.show()\n"
   ]
  },
  {
   "cell_type": "code",
   "execution_count": 58,
   "id": "d4fc0d98",
   "metadata": {
    "id": "d4fc0d98",
    "papermill": {
     "duration": 0.02281,
     "end_time": "2021-07-13T06:22:17.826157",
     "exception": false,
     "start_time": "2021-07-13T06:22:17.803347",
     "status": "completed"
    },
    "tags": []
   },
   "outputs": [
    {
     "name": "stdout",
     "output_type": "stream",
     "text": [
      "+-------------------+----+----+-------+--------+-----+--------+\n",
      "|          timestamp|user| age|product|category|price|quantity|\n",
      "+-------------------+----+----+-------+--------+-----+--------+\n",
      "|2018-11-09 15:00:01|  U3|null| Banana|   Fruit|  0.7|       1|\n",
      "|2019-12-05 04:15:42|  U1|  21| Banana|   Fruit|  0.7|       2|\n",
      "|2020-02-02 03:45:34|  U3|null| Banana|   Fruit|  0.7|       1|\n",
      "|2020-04-01 13:21:41|  U1|  21| Banana|   Fruit|  0.7|       2|\n",
      "|2020-12-03 16:23:48|  U3|null| Banana|   Fruit|  0.5|       3|\n",
      "+-------------------+----+----+-------+--------+-----+--------+\n",
      "\n"
     ]
    }
   ],
   "source": [
    "data_multi_banana = data_fruit.where(data_fruit[\"product\"] == \"Banana\")\n",
    "data_multi_banana.show()\n"
   ]
  },
  {
   "cell_type": "markdown",
   "id": "2215f1ef",
   "metadata": {
    "id": "2215f1ef",
    "papermill": {
     "duration": 0.02294,
     "end_time": "2021-07-13T06:22:17.872156",
     "exception": false,
     "start_time": "2021-07-13T06:22:17.849216",
     "status": "completed"
    },
    "tags": []
   },
   "source": [
    "**Exercise 27: Select columns from `data` that have no missing values and assign it to `data_nomissing_cols`**"
   ]
  },
  {
   "cell_type": "code",
   "execution_count": 75,
   "id": "3eb4506a",
   "metadata": {},
   "outputs": [
    {
     "name": "stdout",
     "output_type": "stream",
     "text": [
      "+-------------------+----+-------+-----+--------+\n",
      "|          timestamp|user|product|price|quantity|\n",
      "+-------------------+----+-------+-----+--------+\n",
      "|2017-01-01 13:22:41|  U1|   Eggs|  2.3|       2|\n",
      "|2017-05-22 09:54:21|  U2|  Bread|  0.6|       2|\n",
      "|2018-11-09 15:00:01|  U3| Banana|  0.7|       1|\n",
      "|2018-12-24 23:03:33|  U1|  Water|  0.2|       1|\n",
      "|2019-03-03 06:21:58|  U4|   Eggs|  2.3|       2|\n",
      "|2019-06-17 16:13:39|  U5| Grapes|  1.5|       1|\n",
      "|2019-07-28 21:03:11|  U5|  Bread|  0.6|       1|\n",
      "|2019-12-05 04:15:42|  U1| Banana|  0.7|       2|\n",
      "|2020-02-02 03:45:34|  U3| Banana|  0.7|       1|\n",
      "|2020-03-05 07:09:12|  U4| Grapes|  1.5|       1|\n",
      "|2020-03-22 19:29:38|  U1|  Water|  0.2|       1|\n",
      "|2020-03-30 09:44:30|  U4|  Water|  0.2|       1|\n",
      "|2020-04-01 13:21:41|  U1| Banana|  0.7|       2|\n",
      "|2020-07-08 11:45:25|  U2| Grapes|  1.5|       1|\n",
      "|2020-11-19 18:51:22|  U5|  Water|  0.2|       1|\n",
      "|2020-12-03 16:23:48|  U3| Banana|  0.5|       3|\n",
      "|2021-02-03 01:14:40|  U5|   Eggs|  2.1|       4|\n",
      "|2021-05-26 22:42:15|  U3|  Bread|  0.6|       1|\n",
      "|2021-06-14 15:49:28|  U4|   Eggs|  2.3|       2|\n",
      "|2021-07-01 04:37:31|  U4|  Water|  0.3|       1|\n",
      "+-------------------+----+-------+-----+--------+\n",
      "\n"
     ]
    }
   ],
   "source": [
    "def drop_null_columns(df):\n",
    "    \"\"\"\n",
    "    This function drops all columns which contain null values.\n",
    "    :param df: A PySpark DataFrame\n",
    "    \"\"\"\n",
    "    null_counts = (\n",
    "        df.select([F.count(F.when(F.col(c).isNull(), c)).alias(c) for c in df.columns])\n",
    "        .collect()[0]\n",
    "        .asDict()\n",
    "    )\n",
    "    to_drop = [k for k, v in null_counts.items() if v > 0]\n",
    "    df = df.drop(*to_drop)\n",
    "    return df\n",
    "\n",
    "\n",
    "# Drops column b2, because it contains null values\n",
    "data_nomissing_cols = drop_null_columns(data)\n",
    "data_nomissing_cols.show()\n"
   ]
  },
  {
   "cell_type": "markdown",
   "id": "1578f433",
   "metadata": {
    "id": "1578f433",
    "papermill": {
     "duration": 0.022816,
     "end_time": "2021-07-13T06:22:17.964547",
     "exception": false,
     "start_time": "2021-07-13T06:22:17.941731",
     "status": "completed"
    },
    "tags": []
   },
   "source": [
    "**Exercise 28: Select rows from `data` that have no missing values and assign it to `data_nomissing_rows`**"
   ]
  },
  {
   "cell_type": "code",
   "execution_count": 78,
   "id": "18945f43",
   "metadata": {
    "id": "18945f43",
    "papermill": {
     "duration": 0.023203,
     "end_time": "2021-07-13T06:22:18.010860",
     "exception": false,
     "start_time": "2021-07-13T06:22:17.987657",
     "status": "completed"
    },
    "tags": []
   },
   "outputs": [
    {
     "name": "stdout",
     "output_type": "stream",
     "text": [
      "+-------------------+----+---+-------+--------+-----+--------+\n",
      "|          timestamp|user|age|product|category|price|quantity|\n",
      "+-------------------+----+---+-------+--------+-----+--------+\n",
      "|2017-01-01 13:22:41|  U1| 21|   Eggs|   Dairy|  2.3|       2|\n",
      "|2018-12-24 23:03:33|  U1| 21|  Water|   Drink|  0.2|       1|\n",
      "|2019-03-03 06:21:58|  U4| 19|   Eggs|   Dairy|  2.3|       2|\n",
      "|2019-06-17 16:13:39|  U5| 25| Grapes|   Fruit|  1.5|       1|\n",
      "|2019-12-05 04:15:42|  U1| 21| Banana|   Fruit|  0.7|       2|\n",
      "|2020-03-05 07:09:12|  U4| 19| Grapes|   Fruit|  1.5|       1|\n",
      "|2020-03-22 19:29:38|  U1| 21|  Water|   Drink|  0.2|       1|\n",
      "|2020-03-30 09:44:30|  U4| 19|  Water|   Drink|  0.2|       1|\n",
      "|2020-04-01 13:21:41|  U1| 21| Banana|   Fruit|  0.7|       2|\n",
      "|2020-07-08 11:45:25|  U2| 41| Grapes|   Fruit|  1.5|       1|\n",
      "|2020-11-19 18:51:22|  U5| 25|  Water|   Drink|  0.2|       1|\n",
      "|2021-02-03 01:14:40|  U5| 25|   Eggs|   Dairy|  2.1|       4|\n",
      "|2021-06-14 15:49:28|  U4| 19|   Eggs|   Dairy|  2.3|       2|\n",
      "|2021-07-01 04:37:31|  U4| 19|  Water|   Drink|  0.3|       1|\n",
      "+-------------------+----+---+-------+--------+-----+--------+\n",
      "\n"
     ]
    }
   ],
   "source": [
    "data_nomissing_rows = data.dropna()\n",
    "data_nomissing_rows.show()\n"
   ]
  },
  {
   "cell_type": "markdown",
   "id": "f9dcb5f8",
   "metadata": {
    "id": "f9dcb5f8",
    "papermill": {
     "duration": 0.023177,
     "end_time": "2021-07-13T06:22:18.057433",
     "exception": false,
     "start_time": "2021-07-13T06:22:18.034256",
     "status": "completed"
    },
    "tags": []
   },
   "source": [
    "**Exercise 29: Select unique rows from `data` and assign it to `data_unique` and select unique `product` from `data_unique` and assign it to `product_unique`**"
   ]
  },
  {
   "cell_type": "code",
   "execution_count": 80,
   "id": "7bfb89f5",
   "metadata": {
    "id": "7bfb89f5",
    "papermill": {
     "duration": 0.023427,
     "end_time": "2021-07-13T06:22:18.104261",
     "exception": false,
     "start_time": "2021-07-13T06:22:18.080834",
     "status": "completed"
    },
    "tags": []
   },
   "outputs": [
    {
     "name": "stdout",
     "output_type": "stream",
     "text": [
      "+-------------------+----+----+-------+--------+-----+--------+\n",
      "|          timestamp|user| age|product|category|price|quantity|\n",
      "+-------------------+----+----+-------+--------+-----+--------+\n",
      "|2019-06-17 16:13:39|  U5|  25| Grapes|   Fruit|  1.5|       1|\n",
      "|2021-05-26 22:42:15|  U3|null|  Bread|    null|  0.6|       1|\n",
      "|2018-11-09 15:00:01|  U3|null| Banana|   Fruit|  0.7|       1|\n",
      "|2019-03-03 06:21:58|  U4|  19|   Eggs|   Dairy|  2.3|       2|\n",
      "|2021-02-03 01:14:40|  U5|  25|   Eggs|   Dairy|  2.1|       4|\n",
      "|2017-01-01 13:22:41|  U1|  21|   Eggs|   Dairy|  2.3|       2|\n",
      "|2020-07-08 11:45:25|  U2|  41| Grapes|   Fruit|  1.5|       1|\n",
      "|2021-06-14 15:49:28|  U4|  19|   Eggs|   Dairy|  2.3|       2|\n",
      "|2019-07-28 21:03:11|  U5|  25|  Bread|    null|  0.6|       1|\n",
      "|2020-12-03 16:23:48|  U3|null| Banana|   Fruit|  0.5|       3|\n",
      "|2017-05-22 09:54:21|  U2|  41|  Bread|    null|  0.6|       2|\n",
      "|2020-11-19 18:51:22|  U5|  25|  Water|   Drink|  0.2|       1|\n",
      "|2021-07-01 04:37:31|  U4|  19|  Water|   Drink|  0.3|       1|\n",
      "|2020-03-30 09:44:30|  U4|  19|  Water|   Drink|  0.2|       1|\n",
      "|2020-03-22 19:29:38|  U1|  21|  Water|   Drink|  0.2|       1|\n",
      "|2019-12-05 04:15:42|  U1|  21| Banana|   Fruit|  0.7|       2|\n",
      "|2020-02-02 03:45:34|  U3|null| Banana|   Fruit|  0.7|       1|\n",
      "|2020-04-01 13:21:41|  U1|  21| Banana|   Fruit|  0.7|       2|\n",
      "|2020-03-05 07:09:12|  U4|  19| Grapes|   Fruit|  1.5|       1|\n",
      "|2018-12-24 23:03:33|  U1|  21|  Water|   Drink|  0.2|       1|\n",
      "+-------------------+----+----+-------+--------+-----+--------+\n",
      "\n"
     ]
    }
   ],
   "source": [
    "data_unique = data.drop_duplicates()\n",
    "data_unique.show()\n"
   ]
  },
  {
   "cell_type": "code",
   "execution_count": null,
   "id": "623b3e57",
   "metadata": {},
   "outputs": [],
   "source": [
    "data.uniq"
   ]
  },
  {
   "cell_type": "code",
   "execution_count": 85,
   "id": "e798ad2a",
   "metadata": {
    "id": "e798ad2a",
    "papermill": {
     "duration": 0.023788,
     "end_time": "2021-07-13T06:22:18.152138",
     "exception": false,
     "start_time": "2021-07-13T06:22:18.128350",
     "status": "completed"
    },
    "tags": []
   },
   "outputs": [
    {
     "data": {
      "text/plain": [
       "['Water', 'Banana', 'Grapes', 'Bread', 'Eggs']"
      ]
     },
     "execution_count": 85,
     "metadata": {},
     "output_type": "execute_result"
    }
   ],
   "source": [
    "product_unique = data_unique.select(\"product\").distinct().rdd.map(lambda item: item[0]).collect()\n",
    "product_unique\n"
   ]
  },
  {
   "cell_type": "markdown",
   "id": "598599ae",
   "metadata": {
    "id": "598599ae",
    "papermill": {
     "duration": 0.023629,
     "end_time": "2021-07-13T06:22:18.199638",
     "exception": false,
     "start_time": "2021-07-13T06:22:18.176009",
     "status": "completed"
    },
    "tags": []
   },
   "source": [
    "**Exercise 30: Select first row of each user from `data` and assign it to `data_first`**"
   ]
  },
  {
   "cell_type": "code",
   "execution_count": 97,
   "id": "7e53b281",
   "metadata": {},
   "outputs": [
    {
     "name": "stdout",
     "output_type": "stream",
     "text": [
      "+-------------------+----+----+-------+--------+-----+--------+\n",
      "|          timestamp|user| age|product|category|price|quantity|\n",
      "+-------------------+----+----+-------+--------+-----+--------+\n",
      "|2017-01-01 13:22:41|  U1|  21|   Eggs|   Dairy|  2.3|       2|\n",
      "|2017-05-22 09:54:21|  U2|  41|  Bread|    null|  0.6|       2|\n",
      "|2018-11-09 15:00:01|  U3|null| Banana|   Fruit|  0.7|       1|\n",
      "|2019-03-03 06:21:58|  U4|  19|   Eggs|   Dairy|  2.3|       2|\n",
      "|2019-06-17 16:13:39|  U5|  25| Grapes|   Fruit|  1.5|       1|\n",
      "+-------------------+----+----+-------+--------+-----+--------+\n",
      "\n"
     ]
    }
   ],
   "source": [
    "w = Window.partitionBy(\"user\").orderBy(F.col(\"user\"))\n",
    "\n",
    "data_first = data.withColumn(\"row\", F.row_number().over(w)).filter(F.col(\"row\") == 1).drop(\"row\")\n",
    "data_first.show()\n"
   ]
  },
  {
   "cell_type": "markdown",
   "id": "630f3740",
   "metadata": {
    "id": "630f3740",
    "papermill": {
     "duration": 0.024623,
     "end_time": "2021-07-13T06:22:18.297833",
     "exception": false,
     "start_time": "2021-07-13T06:22:18.273210",
     "status": "completed"
    },
    "tags": []
   },
   "source": [
    "✅ This completes Set 3: Data Selection (Exercises 21-30) \n",
    "\n",
    "Original exercises for Datatable package can be found [here](https://github.com/vopani/datatableton).\n",
    "\n",
    "Pandas version can be found [there](https://github.com/Extremesarova/pandas_exercises)."
   ]
  },
  {
   "cell_type": "code",
   "execution_count": null,
   "id": "9a02ceb0-ceba-4962-937f-7fa5b2bf3b78",
   "metadata": {},
   "outputs": [],
   "source": []
  }
 ],
 "metadata": {
  "colab": {
   "name": "03_data_selection_exercises.ipynb",
   "provenance": []
  },
  "kernelspec": {
   "display_name": "pyspark_exercises",
   "language": "python",
   "name": "pyspark_exercises"
  },
  "language_info": {
   "codemirror_mode": {
    "name": "ipython",
    "version": 3
   },
   "file_extension": ".py",
   "mimetype": "text/x-python",
   "name": "python",
   "nbconvert_exporter": "python",
   "pygments_lexer": "ipython3",
   "version": "3.10.5"
  },
  "papermill": {
   "default_parameters": {},
   "duration": 37.378194,
   "end_time": "2021-07-13T06:22:18.842712",
   "environment_variables": {},
   "exception": null,
   "input_path": "__notebook__.ipynb",
   "output_path": "__notebook__.ipynb",
   "parameters": {},
   "start_time": "2021-07-13T06:21:41.464518",
   "version": "2.3.3"
  },
  "vscode": {
   "interpreter": {
    "hash": "44a9cdcbdccbf05a880e90d2e6fe72470baab4d1b82472d890be0596ed887a6b"
   }
  }
 },
 "nbformat": 4,
 "nbformat_minor": 5
}
