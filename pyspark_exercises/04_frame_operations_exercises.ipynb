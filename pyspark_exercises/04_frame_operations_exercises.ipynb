{
 "cells": [
  {
   "cell_type": "markdown",
   "id": "e83fbb51",
   "metadata": {
    "id": "e83fbb51",
    "papermill": {
     "duration": 0.017432,
     "end_time": "2021-07-15T18:24:45.590955",
     "exception": false,
     "start_time": "2021-07-15T18:24:45.573523",
     "status": "completed"
    },
    "tags": []
   },
   "source": [
    "<center>\n",
    "    This is Set 4: Frame Operations (Exercises 31-40)\n",
    "</center>"
   ]
  },
  {
   "cell_type": "markdown",
   "id": "fca2dcc1",
   "metadata": {
    "id": "fca2dcc1",
    "papermill": {
     "duration": 0.01734,
     "end_time": "2021-07-15T18:24:45.626378",
     "exception": false,
     "start_time": "2021-07-15T18:24:45.609038",
     "status": "completed"
    },
    "tags": []
   },
   "source": [
    "**Prerequisites**\n",
    "* The sample dataset [titanic](https://www.openml.org/d/40945) from openml will be used for the exercises."
   ]
  },
  {
   "cell_type": "code",
   "execution_count": 1,
   "id": "ff4b2b6d-6d8e-4d3e-990c-6168d1e40ab9",
   "metadata": {},
   "outputs": [],
   "source": [
    "from pyspark.sql import SparkSession\n",
    "from pyspark.sql.types import *\n",
    "import pyspark.sql.functions as F\n",
    "from pyspark.sql.window import Window\n",
    "import numpy as np\n"
   ]
  },
  {
   "cell_type": "code",
   "execution_count": 7,
   "id": "887e4bce",
   "metadata": {},
   "outputs": [],
   "source": [
    "# !wget https://www.openml.org/data/get_csv/16826755/titanic.csv\n"
   ]
  },
  {
   "cell_type": "code",
   "execution_count": 2,
   "id": "cfef5aee",
   "metadata": {},
   "outputs": [
    {
     "name": "stderr",
     "output_type": "stream",
     "text": [
      "Setting default log level to \"WARN\".\n",
      "To adjust logging level use sc.setLogLevel(newLevel). For SparkR, use setLogLevel(newLevel).\n"
     ]
    },
    {
     "name": "stdout",
     "output_type": "stream",
     "text": [
      "22/07/22 16:20:01 WARN NativeCodeLoader: Unable to load native-hadoop library for your platform... using builtin-java classes where applicable\n"
     ]
    }
   ],
   "source": [
    "spark = SparkSession.builder.getOrCreate()\n"
   ]
  },
  {
   "cell_type": "code",
   "execution_count": 25,
   "id": "d784cf1d",
   "metadata": {
    "id": "d784cf1d",
    "outputId": "f772471d-4a83-41df-dbca-049a40692c56",
    "papermill": {
     "duration": 0.25089,
     "end_time": "2021-07-15T18:25:23.863052",
     "exception": false,
     "start_time": "2021-07-15T18:25:23.612162",
     "status": "completed"
    },
    "tags": []
   },
   "outputs": [
    {
     "name": "stdout",
     "output_type": "stream",
     "text": [
      "+------+--------+--------------------+------+------+-----+-----+------+--------+-------+--------+----+----+--------------------+\n",
      "|pclass|survived|                name|   sex|   age|sibsp|parch|ticket|    fare|  cabin|embarked|boat|body|           home.dest|\n",
      "+------+--------+--------------------+------+------+-----+-----+------+--------+-------+--------+----+----+--------------------+\n",
      "|     1|       1|Allen, Miss. Elis...|female|  29.0|    0|    0| 24160|211.3375|     B5|       S|   2|null|        St Louis, MO|\n",
      "|     1|       1|Allison, Master. ...|  male|0.9167|    1|    2|113781|  151.55|C22 C26|       S|  11|null|Montreal, PQ / Ch...|\n",
      "|     1|       0|Allison, Miss. He...|female|   2.0|    1|    2|113781|  151.55|C22 C26|       S|null|null|Montreal, PQ / Ch...|\n",
      "|     1|       0|Allison, Mr. Huds...|  male|  30.0|    1|    2|113781|  151.55|C22 C26|       S|null| 135|Montreal, PQ / Ch...|\n",
      "|     1|       0|Allison, Mrs. Hud...|female|  25.0|    1|    2|113781|  151.55|C22 C26|       S|null|null|Montreal, PQ / Ch...|\n",
      "+------+--------+--------------------+------+------+-----+-----+------+--------+-------+--------+----+----+--------------------+\n",
      "only showing top 5 rows\n",
      "\n"
     ]
    }
   ],
   "source": [
    "data = spark.read.options(header=True, inferSchema=True, nullValue=\"?\").csv(\n",
    "    \"../data/titanic.csv\"\n",
    ")\n",
    "data.show(5)\n"
   ]
  },
  {
   "cell_type": "markdown",
   "id": "63bc60d0",
   "metadata": {
    "execution": {
     "iopub.execute_input": "2021-07-12T10:35:52.5097Z",
     "iopub.status.busy": "2021-07-12T10:35:52.509278Z",
     "iopub.status.idle": "2021-07-12T10:35:52.517897Z",
     "shell.execute_reply": "2021-07-12T10:35:52.51596Z",
     "shell.execute_reply.started": "2021-07-12T10:35:52.509666Z"
    },
    "id": "63bc60d0",
    "papermill": {
     "duration": 0.026308,
     "end_time": "2021-07-15T18:25:23.916402",
     "exception": false,
     "start_time": "2021-07-15T18:25:23.890094",
     "status": "completed"
    },
    "tags": []
   },
   "source": [
    "**Exercise 31: Print all the column names and column types of `data` in `column-name : column-type` format**"
   ]
  },
  {
   "cell_type": "code",
   "execution_count": 26,
   "id": "85e79163",
   "metadata": {
    "id": "85e79163",
    "papermill": {
     "duration": 0.027282,
     "end_time": "2021-07-15T18:25:23.971678",
     "exception": false,
     "start_time": "2021-07-15T18:25:23.944396",
     "status": "completed"
    },
    "tags": []
   },
   "outputs": [
    {
     "data": {
      "text/plain": [
       "[('pclass', 'int'),\n",
       " ('survived', 'int'),\n",
       " ('name', 'string'),\n",
       " ('sex', 'string'),\n",
       " ('age', 'double'),\n",
       " ('sibsp', 'int'),\n",
       " ('parch', 'int'),\n",
       " ('ticket', 'string'),\n",
       " ('fare', 'double'),\n",
       " ('cabin', 'string'),\n",
       " ('embarked', 'string'),\n",
       " ('boat', 'string'),\n",
       " ('body', 'int'),\n",
       " ('home.dest', 'string')]"
      ]
     },
     "execution_count": 26,
     "metadata": {},
     "output_type": "execute_result"
    }
   ],
   "source": [
    "data.dtypes\n"
   ]
  },
  {
   "cell_type": "markdown",
   "id": "2733a052",
   "metadata": {
    "id": "2733a052",
    "papermill": {
     "duration": 0.026873,
     "end_time": "2021-07-15T18:25:24.025733",
     "exception": false,
     "start_time": "2021-07-15T18:25:23.998860",
     "status": "completed"
    },
    "tags": []
   },
   "source": [
    "**Exercise 32: Convert the type of column `age` in `data` from `object` to `float`**"
   ]
  },
  {
   "cell_type": "code",
   "execution_count": 27,
   "id": "44019d2c",
   "metadata": {
    "id": "44019d2c",
    "papermill": {
     "duration": 0.027834,
     "end_time": "2021-07-15T18:25:24.080684",
     "exception": false,
     "start_time": "2021-07-15T18:25:24.052850",
     "status": "completed"
    },
    "tags": []
   },
   "outputs": [],
   "source": [
    "# Not needed, because during reading I've specified inferSchema=True and the type of the column is already double\n"
   ]
  },
  {
   "cell_type": "markdown",
   "id": "ed14a2d3",
   "metadata": {
    "id": "ed14a2d3",
    "papermill": {
     "duration": 0.026588,
     "end_time": "2021-07-15T18:25:24.135483",
     "exception": false,
     "start_time": "2021-07-15T18:25:24.108895",
     "status": "completed"
    },
    "tags": []
   },
   "source": [
    "**Exercise 33: Rename the column `home.dest` in `data` to `address`**"
   ]
  },
  {
   "cell_type": "code",
   "execution_count": 28,
   "id": "6e8570d5",
   "metadata": {
    "id": "6e8570d5",
    "papermill": {
     "duration": 0.026822,
     "end_time": "2021-07-15T18:25:24.189121",
     "exception": false,
     "start_time": "2021-07-15T18:25:24.162299",
     "status": "completed"
    },
    "tags": []
   },
   "outputs": [
    {
     "name": "stdout",
     "output_type": "stream",
     "text": [
      "+------+--------+--------------------+------+------+-----+-----+------+--------+-------+--------+----+----+--------------------+\n",
      "|pclass|survived|                name|   sex|   age|sibsp|parch|ticket|    fare|  cabin|embarked|boat|body|             address|\n",
      "+------+--------+--------------------+------+------+-----+-----+------+--------+-------+--------+----+----+--------------------+\n",
      "|     1|       1|Allen, Miss. Elis...|female|  29.0|    0|    0| 24160|211.3375|     B5|       S|   2|null|        St Louis, MO|\n",
      "|     1|       1|Allison, Master. ...|  male|0.9167|    1|    2|113781|  151.55|C22 C26|       S|  11|null|Montreal, PQ / Ch...|\n",
      "|     1|       0|Allison, Miss. He...|female|   2.0|    1|    2|113781|  151.55|C22 C26|       S|null|null|Montreal, PQ / Ch...|\n",
      "|     1|       0|Allison, Mr. Huds...|  male|  30.0|    1|    2|113781|  151.55|C22 C26|       S|null| 135|Montreal, PQ / Ch...|\n",
      "|     1|       0|Allison, Mrs. Hud...|female|  25.0|    1|    2|113781|  151.55|C22 C26|       S|null|null|Montreal, PQ / Ch...|\n",
      "+------+--------+--------------------+------+------+-----+-----+------+--------+-------+--------+----+----+--------------------+\n",
      "only showing top 5 rows\n",
      "\n"
     ]
    }
   ],
   "source": [
    "data = data.withColumnRenamed(\"home.dest\", \"address\")\n",
    "data.show(5)\n"
   ]
  },
  {
   "cell_type": "markdown",
   "id": "4a16c6f4",
   "metadata": {
    "id": "4a16c6f4",
    "papermill": {
     "duration": 0.026645,
     "end_time": "2021-07-15T18:25:24.244153",
     "exception": false,
     "start_time": "2021-07-15T18:25:24.217508",
     "status": "completed"
    },
    "tags": []
   },
   "source": [
    "**Exercise 34: Sort `data` in descending order of `fare`**"
   ]
  },
  {
   "cell_type": "code",
   "execution_count": 29,
   "id": "81254adc",
   "metadata": {
    "id": "81254adc",
    "papermill": {
     "duration": 0.030211,
     "end_time": "2021-07-15T18:25:24.302076",
     "exception": false,
     "start_time": "2021-07-15T18:25:24.271865",
     "status": "completed"
    },
    "tags": []
   },
   "outputs": [
    {
     "name": "stdout",
     "output_type": "stream",
     "text": [
      "+------+--------+--------------------+------+----+-----+-----+--------+--------+-----------+--------+----+----+--------------------+\n",
      "|pclass|survived|                name|   sex| age|sibsp|parch|  ticket|    fare|      cabin|embarked|boat|body|             address|\n",
      "+------+--------+--------------------+------+----+-----+-----+--------+--------+-----------+--------+----+----+--------------------+\n",
      "|     1|       1|Cardeza, Mr. Thom...|  male|36.0|    0|    1|PC 17755|512.3292|B51 B53 B55|       C|   3|null|Austria-Hungary /...|\n",
      "|     1|       1|Lesurer, Mr. Gust...|  male|35.0|    0|    0|PC 17755|512.3292|       B101|       C|   3|null|                null|\n",
      "|     1|       1|Cardeza, Mrs. Jam...|female|58.0|    0|    1|PC 17755|512.3292|B51 B53 B55|       C|   3|null|Germantown, Phila...|\n",
      "|     1|       1|    Ward, Miss. Anna|female|35.0|    0|    0|PC 17755|512.3292|       null|       C|   3|null|                null|\n",
      "|     1|       0|   Fortune, Mr. Mark|  male|64.0|    1|    4|   19950|   263.0|C23 C25 C27|       S|null|null|        Winnipeg, MB|\n",
      "+------+--------+--------------------+------+----+-----+-----+--------+--------+-----------+--------+----+----+--------------------+\n",
      "only showing top 5 rows\n",
      "\n"
     ]
    }
   ],
   "source": [
    "data = data.sort(\"fare\", ascending=False)\n",
    "data.show(5)\n"
   ]
  },
  {
   "cell_type": "markdown",
   "id": "82c8f604",
   "metadata": {
    "id": "82c8f604",
    "papermill": {
     "duration": 0.036157,
     "end_time": "2021-07-15T18:25:24.369768",
     "exception": false,
     "start_time": "2021-07-15T18:25:24.333611",
     "status": "completed"
    },
    "tags": []
   },
   "source": [
    "**Exercise 35: Create a column `deck` in `data` containing only the first character of `cabin`**"
   ]
  },
  {
   "cell_type": "code",
   "execution_count": 30,
   "id": "6851d2fc",
   "metadata": {
    "id": "6851d2fc",
    "papermill": {
     "duration": 0.026821,
     "end_time": "2021-07-15T18:25:24.423689",
     "exception": false,
     "start_time": "2021-07-15T18:25:24.396868",
     "status": "completed"
    },
    "tags": []
   },
   "outputs": [
    {
     "name": "stdout",
     "output_type": "stream",
     "text": [
      "+----+\n",
      "|deck|\n",
      "+----+\n",
      "|   B|\n",
      "|   B|\n",
      "|   B|\n",
      "|null|\n",
      "|   C|\n",
      "+----+\n",
      "only showing top 5 rows\n",
      "\n"
     ]
    }
   ],
   "source": [
    "data = data.withColumn(\"deck\", data[\"cabin\"].substr(0, 1))\n",
    "data.select(\"deck\").show(5)\n"
   ]
  },
  {
   "cell_type": "markdown",
   "id": "391c57aa",
   "metadata": {
    "id": "391c57aa",
    "papermill": {
     "duration": 0.027222,
     "end_time": "2021-07-15T18:25:24.487719",
     "exception": false,
     "start_time": "2021-07-15T18:25:24.460497",
     "status": "completed"
    },
    "tags": []
   },
   "source": [
    "**Exercise 36: Create a column `family` in `data` which is the sum of two columns `sibsp` and `parch`**"
   ]
  },
  {
   "cell_type": "code",
   "execution_count": 31,
   "id": "f9f726d8",
   "metadata": {
    "id": "f9f726d8",
    "papermill": {
     "duration": 0.027358,
     "end_time": "2021-07-15T18:25:24.542620",
     "exception": false,
     "start_time": "2021-07-15T18:25:24.515262",
     "status": "completed"
    },
    "tags": []
   },
   "outputs": [
    {
     "name": "stdout",
     "output_type": "stream",
     "text": [
      "+------+\n",
      "|family|\n",
      "+------+\n",
      "|     1|\n",
      "|     0|\n",
      "|     1|\n",
      "|     0|\n",
      "|     5|\n",
      "+------+\n",
      "only showing top 5 rows\n",
      "\n"
     ]
    }
   ],
   "source": [
    "data = data.withColumn(\"family\", data[\"sibsp\"] + data[\"parch\"])\n",
    "data.select(\"family\").show(5)\n"
   ]
  },
  {
   "cell_type": "markdown",
   "id": "403601af",
   "metadata": {
    "id": "403601af",
    "papermill": {
     "duration": 0.031683,
     "end_time": "2021-07-15T18:25:24.607800",
     "exception": false,
     "start_time": "2021-07-15T18:25:24.576117",
     "status": "completed"
    },
    "tags": []
   },
   "source": [
    "**Exercise 37: Create a column `total_passengers` in `data` which is the sum of `family` and the passenger included and round the values of column `age` in `data` to the nearest integer, both together using a single inplace operation**"
   ]
  },
  {
   "cell_type": "code",
   "execution_count": 37,
   "id": "0fb2b962",
   "metadata": {
    "id": "0fb2b962",
    "papermill": {
     "duration": 0.034959,
     "end_time": "2021-07-15T18:25:24.675102",
     "exception": false,
     "start_time": "2021-07-15T18:25:24.640143",
     "status": "completed"
    },
    "tags": []
   },
   "outputs": [
    {
     "name": "stdout",
     "output_type": "stream",
     "text": [
      "+------+--------+--------------------+------+----+-----+-----+--------+--------+-----------+--------+----+----+--------------------+----+------+----------------+\n",
      "|pclass|survived|                name|   sex| age|sibsp|parch|  ticket|    fare|      cabin|embarked|boat|body|             address|deck|family|total_passengers|\n",
      "+------+--------+--------------------+------+----+-----+-----+--------+--------+-----------+--------+----+----+--------------------+----+------+----------------+\n",
      "|     1|       1|Cardeza, Mrs. Jam...|female|58.0|    0|    1|PC 17755|512.3292|B51 B53 B55|       C|   3|null|Germantown, Phila...|   B|     1|               2|\n",
      "|     1|       1|Lesurer, Mr. Gust...|  male|35.0|    0|    0|PC 17755|512.3292|       B101|       C|   3|null|                null|   B|     0|               1|\n",
      "|     1|       1|    Ward, Miss. Anna|female|35.0|    0|    0|PC 17755|512.3292|       null|       C|   3|null|                null|null|     0|               1|\n",
      "|     1|       1|Cardeza, Mr. Thom...|  male|36.0|    0|    1|PC 17755|512.3292|B51 B53 B55|       C|   3|null|Austria-Hungary /...|   B|     1|               2|\n",
      "|     1|       1|Fortune, Miss. Al...|female|24.0|    3|    2|   19950|   263.0|C23 C25 C27|       S|  10|null|        Winnipeg, MB|   C|     5|               6|\n",
      "+------+--------+--------------------+------+----+-----+-----+--------+--------+-----------+--------+----+----+--------------------+----+------+----------------+\n",
      "only showing top 5 rows\n",
      "\n"
     ]
    }
   ],
   "source": [
    "data = data.withColumn(\"total_passengers\", data[\"family\"] + 1).withColumn(\n",
    "    \"age\", F.round(data[\"age\"])\n",
    ")\n",
    "data.show(5)\n"
   ]
  },
  {
   "cell_type": "markdown",
   "id": "fda24a51",
   "metadata": {
    "id": "fda24a51",
    "papermill": {
     "duration": 0.026597,
     "end_time": "2021-07-15T18:25:24.729015",
     "exception": false,
     "start_time": "2021-07-15T18:25:24.702418",
     "status": "completed"
    },
    "tags": []
   },
   "source": [
    "**Exercise 38: Delete the used columns `sibsp` and `parch` and the outlier rows first and last from `data`**"
   ]
  },
  {
   "cell_type": "code",
   "execution_count": 41,
   "id": "012e01dc",
   "metadata": {
    "id": "012e01dc",
    "papermill": {
     "duration": 0.026627,
     "end_time": "2021-07-15T18:25:24.782493",
     "exception": false,
     "start_time": "2021-07-15T18:25:24.755866",
     "status": "completed"
    },
    "tags": []
   },
   "outputs": [
    {
     "name": "stdout",
     "output_type": "stream",
     "text": [
      "+------+--------+--------------------+------+----+--------+--------+-----------+--------+----+----+--------------------+----+------+----------------+\n",
      "|pclass|survived|                name|   sex| age|  ticket|    fare|      cabin|embarked|boat|body|             address|deck|family|total_passengers|\n",
      "+------+--------+--------------------+------+----+--------+--------+-----------+--------+----+----+--------------------+----+------+----------------+\n",
      "|     1|       1|Cardeza, Mrs. Jam...|female|58.0|PC 17755|512.3292|B51 B53 B55|       C|   3|null|Germantown, Phila...|   B|     1|               2|\n",
      "|     1|       1|Lesurer, Mr. Gust...|  male|35.0|PC 17755|512.3292|       B101|       C|   3|null|                null|   B|     0|               1|\n",
      "|     1|       1|    Ward, Miss. Anna|female|35.0|PC 17755|512.3292|       null|       C|   3|null|                null|null|     0|               1|\n",
      "|     1|       1|Cardeza, Mr. Thom...|  male|36.0|PC 17755|512.3292|B51 B53 B55|       C|   3|null|Austria-Hungary /...|   B|     1|               2|\n",
      "|     1|       1|Fortune, Miss. Al...|female|24.0|   19950|   263.0|C23 C25 C27|       S|  10|null|        Winnipeg, MB|   C|     5|               6|\n",
      "+------+--------+--------------------+------+----+--------+--------+-----------+--------+----+----+--------------------+----+------+----------------+\n",
      "only showing top 5 rows\n",
      "\n"
     ]
    }
   ],
   "source": [
    "data = data.drop(*[\"sibsp\", \"parch\"])\n",
    "data.show(5)\n"
   ]
  },
  {
   "cell_type": "code",
   "execution_count": 45,
   "id": "3f26e6e3",
   "metadata": {
    "id": "3f26e6e3",
    "papermill": {
     "duration": 0.026515,
     "end_time": "2021-07-15T18:25:24.835871",
     "exception": false,
     "start_time": "2021-07-15T18:25:24.809356",
     "status": "completed"
    },
    "tags": []
   },
   "outputs": [
    {
     "name": "stderr",
     "output_type": "stream",
     "text": [
      "                                                                                \r"
     ]
    },
    {
     "name": "stdout",
     "output_type": "stream",
     "text": [
      "+------+--------+--------------------+------+----+--------+--------+-----------+--------+----+----+--------------------+----+------+----------------+\n",
      "|pclass|survived|                name|   sex| age|  ticket|    fare|      cabin|embarked|boat|body|             address|deck|family|total_passengers|\n",
      "+------+--------+--------------------+------+----+--------+--------+-----------+--------+----+----+--------------------+----+------+----------------+\n",
      "|     1|       1|    Ward, Miss. Anna|female|35.0|PC 17755|512.3292|       null|       C|   3|null|                null|null|     0|               1|\n",
      "|     1|       1|Cardeza, Mr. Thom...|  male|36.0|PC 17755|512.3292|B51 B53 B55|       C|   3|null|Austria-Hungary /...|   B|     1|               2|\n",
      "|     1|       1|Fortune, Miss. Al...|female|24.0|   19950|   263.0|C23 C25 C27|       S|  10|null|        Winnipeg, MB|   C|     5|               6|\n",
      "|     1|       1|Fortune, Miss. Et...|female|28.0|   19950|   263.0|C23 C25 C27|       S|  10|null|        Winnipeg, MB|   C|     5|               6|\n",
      "|     1|       1|Fortune, Miss. Ma...|female|23.0|   19950|   263.0|C23 C25 C27|       S|  10|null|        Winnipeg, MB|   C|     5|               6|\n",
      "+------+--------+--------------------+------+----+--------+--------+-----------+--------+----+----+--------------------+----+------+----------------+\n",
      "only showing top 5 rows\n",
      "\n"
     ]
    }
   ],
   "source": [
    "# PySpark DataFrames don't have indices, so we won't be able to easily define and delete first and last rows\n",
    "data = spark.createDataFrame(data.rdd.collect()[1:-1])\n",
    "data.show(5)"
   ]
  },
  {
   "cell_type": "markdown",
   "id": "75f54988",
   "metadata": {
    "id": "75f54988",
    "papermill": {
     "duration": 0.026991,
     "end_time": "2021-07-15T18:25:24.890783",
     "exception": false,
     "start_time": "2021-07-15T18:25:24.863792",
     "status": "completed"
    },
    "tags": []
   },
   "source": [
    "**Exercise 39: Replace all `'?'` values with `NA` or `null` as missing values in `data`**"
   ]
  },
  {
   "cell_type": "code",
   "execution_count": 46,
   "id": "1a96af9d",
   "metadata": {
    "id": "1a96af9d",
    "papermill": {
     "duration": 0.026826,
     "end_time": "2021-07-15T18:25:24.944713",
     "exception": false,
     "start_time": "2021-07-15T18:25:24.917887",
     "status": "completed"
    },
    "tags": []
   },
   "outputs": [],
   "source": [
    "# already done while reading the file"
   ]
  },
  {
   "cell_type": "markdown",
   "id": "a35b87fe",
   "metadata": {
    "id": "a35b87fe",
    "papermill": {
     "duration": 0.02661,
     "end_time": "2021-07-15T18:25:24.998532",
     "exception": false,
     "start_time": "2021-07-15T18:25:24.971922",
     "status": "completed"
    },
    "tags": []
   },
   "source": [
    "**Exercise 40: Impute all the missing values in `data` with `-1` for numeric columns and `'unknown'` for string columns**"
   ]
  },
  {
   "cell_type": "code",
   "execution_count": 47,
   "id": "263b514b",
   "metadata": {},
   "outputs": [
    {
     "data": {
      "text/plain": [
       "[('pclass', 'bigint'),\n",
       " ('survived', 'bigint'),\n",
       " ('name', 'string'),\n",
       " ('sex', 'string'),\n",
       " ('age', 'double'),\n",
       " ('ticket', 'string'),\n",
       " ('fare', 'double'),\n",
       " ('cabin', 'string'),\n",
       " ('embarked', 'string'),\n",
       " ('boat', 'string'),\n",
       " ('body', 'bigint'),\n",
       " ('address', 'string'),\n",
       " ('deck', 'string'),\n",
       " ('family', 'bigint'),\n",
       " ('total_passengers', 'bigint')]"
      ]
     },
     "execution_count": 47,
     "metadata": {},
     "output_type": "execute_result"
    }
   ],
   "source": [
    "data.dtypes"
   ]
  },
  {
   "cell_type": "code",
   "execution_count": 108,
   "id": "bdf0da78",
   "metadata": {
    "id": "bdf0da78",
    "papermill": {
     "duration": 0.029406,
     "end_time": "2021-07-15T18:25:25.055076",
     "exception": false,
     "start_time": "2021-07-15T18:25:25.025670",
     "status": "completed"
    },
    "tags": []
   },
   "outputs": [
    {
     "data": {
      "text/html": [
       "<div>\n",
       "<style scoped>\n",
       "    .dataframe tbody tr th:only-of-type {\n",
       "        vertical-align: middle;\n",
       "    }\n",
       "\n",
       "    .dataframe tbody tr th {\n",
       "        vertical-align: top;\n",
       "    }\n",
       "\n",
       "    .dataframe thead th {\n",
       "        text-align: right;\n",
       "    }\n",
       "</style>\n",
       "<table border=\"1\" class=\"dataframe\">\n",
       "  <thead>\n",
       "    <tr style=\"text-align: right;\">\n",
       "      <th></th>\n",
       "      <th>index</th>\n",
       "      <th>pclass</th>\n",
       "      <th>survived</th>\n",
       "      <th>name</th>\n",
       "      <th>sex</th>\n",
       "      <th>age</th>\n",
       "      <th>ticket</th>\n",
       "      <th>fare</th>\n",
       "      <th>cabin</th>\n",
       "      <th>embarked</th>\n",
       "      <th>boat</th>\n",
       "      <th>body</th>\n",
       "      <th>address</th>\n",
       "      <th>deck</th>\n",
       "      <th>family</th>\n",
       "      <th>total_passengers</th>\n",
       "    </tr>\n",
       "  </thead>\n",
       "  <tbody>\n",
       "    <tr>\n",
       "      <th>0</th>\n",
       "      <td>49</td>\n",
       "      <td>1</td>\n",
       "      <td>1</td>\n",
       "      <td>Cardeza, Mr. Thomas Drake Martinez</td>\n",
       "      <td>male</td>\n",
       "      <td>36.0</td>\n",
       "      <td>PC 17755</td>\n",
       "      <td>512.3292</td>\n",
       "      <td>B51 B53 B55</td>\n",
       "      <td>C</td>\n",
       "      <td>3</td>\n",
       "      <td>unknown</td>\n",
       "      <td>Austria-Hungary / Germantown, Philadelphia, PA</td>\n",
       "      <td>B</td>\n",
       "      <td>1</td>\n",
       "      <td>2</td>\n",
       "    </tr>\n",
       "    <tr>\n",
       "      <th>1</th>\n",
       "      <td>50</td>\n",
       "      <td>1</td>\n",
       "      <td>1</td>\n",
       "      <td>Cardeza, Mrs. James Warburton Martinez (Charlo...</td>\n",
       "      <td>female</td>\n",
       "      <td>58.0</td>\n",
       "      <td>PC 17755</td>\n",
       "      <td>512.3292</td>\n",
       "      <td>B51 B53 B55</td>\n",
       "      <td>C</td>\n",
       "      <td>3</td>\n",
       "      <td>unknown</td>\n",
       "      <td>Germantown, Philadelphia, PA</td>\n",
       "      <td>B</td>\n",
       "      <td>1</td>\n",
       "      <td>2</td>\n",
       "    </tr>\n",
       "    <tr>\n",
       "      <th>2</th>\n",
       "      <td>183</td>\n",
       "      <td>1</td>\n",
       "      <td>1</td>\n",
       "      <td>Lesurer, Mr. Gustave J</td>\n",
       "      <td>male</td>\n",
       "      <td>35.0</td>\n",
       "      <td>PC 17755</td>\n",
       "      <td>512.3292</td>\n",
       "      <td>B101</td>\n",
       "      <td>C</td>\n",
       "      <td>3</td>\n",
       "      <td>unknown</td>\n",
       "      <td>Germantown, Philadelphia, PA</td>\n",
       "      <td>B</td>\n",
       "      <td>0</td>\n",
       "      <td>1</td>\n",
       "    </tr>\n",
       "    <tr>\n",
       "      <th>3</th>\n",
       "      <td>111</td>\n",
       "      <td>1</td>\n",
       "      <td>1</td>\n",
       "      <td>Fortune, Miss. Alice Elizabeth</td>\n",
       "      <td>female</td>\n",
       "      <td>24.0</td>\n",
       "      <td>19950</td>\n",
       "      <td>263</td>\n",
       "      <td>C23 C25 C27</td>\n",
       "      <td>S</td>\n",
       "      <td>10</td>\n",
       "      <td>unknown</td>\n",
       "      <td>Winnipeg, MB</td>\n",
       "      <td>C</td>\n",
       "      <td>5</td>\n",
       "      <td>6</td>\n",
       "    </tr>\n",
       "    <tr>\n",
       "      <th>4</th>\n",
       "      <td>112</td>\n",
       "      <td>1</td>\n",
       "      <td>1</td>\n",
       "      <td>Fortune, Miss. Ethel Flora</td>\n",
       "      <td>female</td>\n",
       "      <td>28.0</td>\n",
       "      <td>19950</td>\n",
       "      <td>263</td>\n",
       "      <td>C23 C25 C27</td>\n",
       "      <td>S</td>\n",
       "      <td>10</td>\n",
       "      <td>unknown</td>\n",
       "      <td>Winnipeg, MB</td>\n",
       "      <td>C</td>\n",
       "      <td>5</td>\n",
       "      <td>6</td>\n",
       "    </tr>\n",
       "    <tr>\n",
       "      <th>5</th>\n",
       "      <td>113</td>\n",
       "      <td>1</td>\n",
       "      <td>1</td>\n",
       "      <td>Fortune, Miss. Mabel Helen</td>\n",
       "      <td>female</td>\n",
       "      <td>23.0</td>\n",
       "      <td>19950</td>\n",
       "      <td>263</td>\n",
       "      <td>C23 C25 C27</td>\n",
       "      <td>S</td>\n",
       "      <td>10</td>\n",
       "      <td>unknown</td>\n",
       "      <td>Winnipeg, MB</td>\n",
       "      <td>C</td>\n",
       "      <td>5</td>\n",
       "      <td>6</td>\n",
       "    </tr>\n",
       "    <tr>\n",
       "      <th>6</th>\n",
       "      <td>114</td>\n",
       "      <td>1</td>\n",
       "      <td>0</td>\n",
       "      <td>Fortune, Mr. Charles Alexander</td>\n",
       "      <td>male</td>\n",
       "      <td>19.0</td>\n",
       "      <td>19950</td>\n",
       "      <td>263</td>\n",
       "      <td>C23 C25 C27</td>\n",
       "      <td>S</td>\n",
       "      <td>10</td>\n",
       "      <td>unknown</td>\n",
       "      <td>Winnipeg, MB</td>\n",
       "      <td>C</td>\n",
       "      <td>5</td>\n",
       "      <td>6</td>\n",
       "    </tr>\n",
       "    <tr>\n",
       "      <th>7</th>\n",
       "      <td>115</td>\n",
       "      <td>1</td>\n",
       "      <td>0</td>\n",
       "      <td>Fortune, Mr. Mark</td>\n",
       "      <td>male</td>\n",
       "      <td>64.0</td>\n",
       "      <td>19950</td>\n",
       "      <td>263</td>\n",
       "      <td>C23 C25 C27</td>\n",
       "      <td>S</td>\n",
       "      <td>10</td>\n",
       "      <td>unknown</td>\n",
       "      <td>Winnipeg, MB</td>\n",
       "      <td>C</td>\n",
       "      <td>5</td>\n",
       "      <td>6</td>\n",
       "    </tr>\n",
       "    <tr>\n",
       "      <th>8</th>\n",
       "      <td>116</td>\n",
       "      <td>1</td>\n",
       "      <td>1</td>\n",
       "      <td>Fortune, Mrs. Mark (Mary McDougald)</td>\n",
       "      <td>female</td>\n",
       "      <td>60.0</td>\n",
       "      <td>19950</td>\n",
       "      <td>263</td>\n",
       "      <td>C23 C25 C27</td>\n",
       "      <td>S</td>\n",
       "      <td>10</td>\n",
       "      <td>unknown</td>\n",
       "      <td>Winnipeg, MB</td>\n",
       "      <td>C</td>\n",
       "      <td>5</td>\n",
       "      <td>6</td>\n",
       "    </tr>\n",
       "    <tr>\n",
       "      <th>9</th>\n",
       "      <td>253</td>\n",
       "      <td>1</td>\n",
       "      <td>1</td>\n",
       "      <td>Ryerson, Mrs. Arthur Larned (Emily Maria Borie)</td>\n",
       "      <td>female</td>\n",
       "      <td>48.0</td>\n",
       "      <td>PC 17608</td>\n",
       "      <td>262.375</td>\n",
       "      <td>B57 B59 B63 B66</td>\n",
       "      <td>C</td>\n",
       "      <td>4</td>\n",
       "      <td>unknown</td>\n",
       "      <td>Haverford, PA / Cooperstown, NY</td>\n",
       "      <td>B</td>\n",
       "      <td>4</td>\n",
       "      <td>5</td>\n",
       "    </tr>\n",
       "  </tbody>\n",
       "</table>\n",
       "</div>"
      ],
      "text/plain": [
       "   index  pclass  survived                                               name  \\\n",
       "0     49       1         1                 Cardeza, Mr. Thomas Drake Martinez   \n",
       "1     50       1         1  Cardeza, Mrs. James Warburton Martinez (Charlo...   \n",
       "2    183       1         1                             Lesurer, Mr. Gustave J   \n",
       "3    111       1         1                     Fortune, Miss. Alice Elizabeth   \n",
       "4    112       1         1                         Fortune, Miss. Ethel Flora   \n",
       "5    113       1         1                         Fortune, Miss. Mabel Helen   \n",
       "6    114       1         0                     Fortune, Mr. Charles Alexander   \n",
       "7    115       1         0                                  Fortune, Mr. Mark   \n",
       "8    116       1         1                Fortune, Mrs. Mark (Mary McDougald)   \n",
       "9    253       1         1    Ryerson, Mrs. Arthur Larned (Emily Maria Borie)   \n",
       "\n",
       "      sex   age    ticket      fare            cabin embarked boat     body  \\\n",
       "0    male  36.0  PC 17755  512.3292      B51 B53 B55        C    3  unknown   \n",
       "1  female  58.0  PC 17755  512.3292      B51 B53 B55        C    3  unknown   \n",
       "2    male  35.0  PC 17755  512.3292             B101        C    3  unknown   \n",
       "3  female  24.0     19950       263      C23 C25 C27        S   10  unknown   \n",
       "4  female  28.0     19950       263      C23 C25 C27        S   10  unknown   \n",
       "5  female  23.0     19950       263      C23 C25 C27        S   10  unknown   \n",
       "6    male  19.0     19950       263      C23 C25 C27        S   10  unknown   \n",
       "7    male  64.0     19950       263      C23 C25 C27        S   10  unknown   \n",
       "8  female  60.0     19950       263      C23 C25 C27        S   10  unknown   \n",
       "9  female  48.0  PC 17608   262.375  B57 B59 B63 B66        C    4  unknown   \n",
       "\n",
       "                                          address deck  family  \\\n",
       "0  Austria-Hungary / Germantown, Philadelphia, PA    B       1   \n",
       "1                    Germantown, Philadelphia, PA    B       1   \n",
       "2                    Germantown, Philadelphia, PA    B       0   \n",
       "3                                    Winnipeg, MB    C       5   \n",
       "4                                    Winnipeg, MB    C       5   \n",
       "5                                    Winnipeg, MB    C       5   \n",
       "6                                    Winnipeg, MB    C       5   \n",
       "7                                    Winnipeg, MB    C       5   \n",
       "8                                    Winnipeg, MB    C       5   \n",
       "9                 Haverford, PA / Cooperstown, NY    B       4   \n",
       "\n",
       "   total_passengers  \n",
       "0                 2  \n",
       "1                 2  \n",
       "2                 1  \n",
       "3                 6  \n",
       "4                 6  \n",
       "5                 6  \n",
       "6                 6  \n",
       "7                 6  \n",
       "8                 6  \n",
       "9                 5  "
      ]
     },
     "execution_count": 108,
     "metadata": {},
     "output_type": "execute_result"
    }
   ],
   "source": [
    "string_columns_replacement = dict(\n",
    "    zip(\n",
    "        data.columns[data.dtypes == \"object\"],\n",
    "        [\"unknown\"] * len(data.columns[data.dtypes == \"object\"]),\n",
    "    )\n",
    ")\n",
    "numeric_columns_replacement = dict(\n",
    "    zip(\n",
    "        data.select_dtypes(exclude=[\"object\"]).columns,\n",
    "        [-1] * len(data.select_dtypes(exclude=[\"object\"]).columns),\n",
    "    )\n",
    ")\n",
    "replacement_dict = {**string_columns_replacement, **numeric_columns_replacement}\n",
    "data.fillna(replacement_dict, inplace=True)\n",
    "data.head(10)\n"
   ]
  },
  {
   "cell_type": "markdown",
   "id": "7fd864fa",
   "metadata": {
    "id": "7fd864fa",
    "papermill": {
     "duration": 0.027134,
     "end_time": "2021-07-15T18:25:25.111655",
     "exception": false,
     "start_time": "2021-07-15T18:25:25.084521",
     "status": "completed"
    },
    "tags": []
   },
   "source": [
    "✅ This completes Set 4: Frame Operations (Exercises 31-40)\n",
    "\n",
    "Original exercises for Datatable package can be found [here](https://github.com/vopani/datatableton)"
   ]
  }
 ],
 "metadata": {
  "colab": {
   "name": "04_frame_operations_exercises.ipynb",
   "provenance": []
  },
  "kernelspec": {
   "display_name": "pyspark_exercises",
   "language": "python",
   "name": "pyspark_exercises"
  },
  "language_info": {
   "codemirror_mode": {
    "name": "ipython",
    "version": 3
   },
   "file_extension": ".py",
   "mimetype": "text/x-python",
   "name": "python",
   "nbconvert_exporter": "python",
   "pygments_lexer": "ipython3",
   "version": "3.10.5"
  },
  "papermill": {
   "default_parameters": {},
   "duration": 49.739931,
   "end_time": "2021-07-15T18:25:25.850028",
   "environment_variables": {},
   "exception": null,
   "input_path": "__notebook__.ipynb",
   "output_path": "__notebook__.ipynb",
   "parameters": {},
   "start_time": "2021-07-15T18:24:36.110097",
   "version": "2.3.3"
  },
  "vscode": {
   "interpreter": {
    "hash": "44a9cdcbdccbf05a880e90d2e6fe72470baab4d1b82472d890be0596ed887a6b"
   }
  }
 },
 "nbformat": 4,
 "nbformat_minor": 5
}
