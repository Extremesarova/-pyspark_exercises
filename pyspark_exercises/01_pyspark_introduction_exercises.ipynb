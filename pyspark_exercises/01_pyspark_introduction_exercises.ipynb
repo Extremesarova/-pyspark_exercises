{
 "cells": [
  {
   "cell_type": "markdown",
   "id": "buried-encounter",
   "metadata": {
    "id": "buried-encounter",
    "papermill": {
     "duration": 0.012515,
     "end_time": "2021-07-07T06:25:38.201766",
     "exception": false,
     "start_time": "2021-07-07T06:25:38.189251",
     "status": "completed"
    },
    "tags": []
   },
   "source": [
    "<center>\n",
    "    This is Set 1: Pandas Introduction (Exercises 1-10)\n",
    "</center>"
   ]
  },
  {
   "cell_type": "markdown",
   "id": "conditional-layout",
   "metadata": {
    "id": "conditional-layout",
    "papermill": {
     "duration": 0.012639,
     "end_time": "2021-07-07T06:25:38.227099",
     "exception": false,
     "start_time": "2021-07-07T06:25:38.214460",
     "status": "completed"
    },
    "tags": []
   },
   "source": [
    "**Exercise 1: Install the latest version of pyspark**"
   ]
  },
  {
   "cell_type": "code",
   "execution_count": 2,
   "id": "elegant-programmer",
   "metadata": {
    "id": "elegant-programmer",
    "papermill": {
     "duration": 0.013167,
     "end_time": "2021-07-07T06:25:38.254184",
     "exception": false,
     "start_time": "2021-07-07T06:25:38.241017",
     "status": "completed"
    },
    "tags": []
   },
   "outputs": [],
   "source": [
    "# !pip install pyspark"
   ]
  },
  {
   "cell_type": "markdown",
   "id": "polyphonic-concept",
   "metadata": {
    "id": "polyphonic-concept",
    "papermill": {
     "duration": 0.012494,
     "end_time": "2021-07-07T06:25:38.280071",
     "exception": false,
     "start_time": "2021-07-07T06:25:38.267577",
     "status": "completed"
    },
    "tags": []
   },
   "source": [
    "**Exercise 2: Import the pyspark package and initialize `SparkSession`**"
   ]
  },
  {
   "cell_type": "code",
   "execution_count": 3,
   "id": "transparent-meeting",
   "metadata": {
    "id": "transparent-meeting",
    "papermill": {
     "duration": 0.012536,
     "end_time": "2021-07-07T06:25:38.307397",
     "exception": false,
     "start_time": "2021-07-07T06:25:38.294861",
     "status": "completed"
    },
    "tags": []
   },
   "outputs": [],
   "source": [
    "import numpy as np"
   ]
  },
  {
   "cell_type": "code",
   "execution_count": 10,
   "id": "f962eb16",
   "metadata": {},
   "outputs": [],
   "source": [
    "from pyspark.sql import SparkSession\n",
    "from pyspark.sql.types import *\n",
    "\n",
    "spark = SparkSession.builder.getOrCreate()"
   ]
  },
  {
   "cell_type": "markdown",
   "id": "opposite-alias",
   "metadata": {
    "id": "opposite-alias",
    "papermill": {
     "duration": 0.012227,
     "end_time": "2021-07-07T06:25:38.332197",
     "exception": false,
     "start_time": "2021-07-07T06:25:38.319970",
     "status": "completed"
    },
    "tags": []
   },
   "source": [
    "**Exercise 3: Display the version of the PySpark package**"
   ]
  },
  {
   "cell_type": "code",
   "execution_count": 7,
   "id": "defined-leadership",
   "metadata": {
    "id": "defined-leadership",
    "papermill": {
     "duration": 0.012969,
     "end_time": "2021-07-07T06:25:38.357765",
     "exception": false,
     "start_time": "2021-07-07T06:25:38.344796",
     "status": "completed"
    },
    "tags": []
   },
   "outputs": [],
   "source": [
    "# spark.__version_"
   ]
  },
  {
   "cell_type": "markdown",
   "id": "complete-isaac",
   "metadata": {
    "id": "complete-isaac",
    "papermill": {
     "duration": 0.013513,
     "end_time": "2021-07-07T06:25:38.388291",
     "exception": false,
     "start_time": "2021-07-07T06:25:38.374778",
     "status": "completed"
    },
    "tags": []
   },
   "source": [
    "**Exercise 4: Create an empty datatable frame and assign it to `data`**"
   ]
  },
  {
   "cell_type": "code",
   "execution_count": 11,
   "id": "dominican-surveillance",
   "metadata": {
    "id": "dominican-surveillance",
    "papermill": {
     "duration": 0.013553,
     "end_time": "2021-07-07T06:25:38.415653",
     "exception": false,
     "start_time": "2021-07-07T06:25:38.402100",
     "status": "completed"
    },
    "tags": []
   },
   "outputs": [
    {
     "data": {
      "text/plain": [
       "pyspark.sql.dataframe.DataFrame"
      ]
     },
     "execution_count": 11,
     "metadata": {},
     "output_type": "execute_result"
    }
   ],
   "source": [
    "data = spark.createDataFrame([], StructType([]))\n",
    "type(data)"
   ]
  },
  {
   "cell_type": "markdown",
   "id": "interstate-complex",
   "metadata": {
    "id": "interstate-complex",
    "papermill": {
     "duration": 0.012498,
     "end_time": "2021-07-07T06:25:38.441930",
     "exception": false,
     "start_time": "2021-07-07T06:25:38.429432",
     "status": "completed"
    },
    "tags": []
   },
   "source": [
    "**Exercise 5: Create a frame with a column `v1` with integer values from 0 to 9, a column `v2` with values ['Y', 'O', 'U', 'C', 'A', 'N', 'D', 'O', 'I', 'T'] and assign it to `data`**"
   ]
  },
  {
   "cell_type": "code",
   "execution_count": 36,
   "id": "authorized-disabled",
   "metadata": {
    "id": "authorized-disabled",
    "papermill": {
     "duration": 0.013051,
     "end_time": "2021-07-07T06:25:38.467899",
     "exception": false,
     "start_time": "2021-07-07T06:25:38.454848",
     "status": "completed"
    },
    "tags": []
   },
   "outputs": [
    {
     "name": "stdout",
     "output_type": "stream",
     "text": [
      "root\n",
      " |-- v1: long (nullable = true)\n",
      " |-- v2: string (nullable = true)\n",
      "\n"
     ]
    }
   ],
   "source": [
    "rdd = spark.sparkContext.parallelize(list(zip(list(range(0, 10)), list(\"YOUCANDOIT\"))))\n",
    "data = spark.createDataFrame(data=rdd, schema=[\"v1\", \"v2\"])\n",
    "data.printSchema()"
   ]
  },
  {
   "cell_type": "markdown",
   "id": "confirmed-payroll",
   "metadata": {
    "id": "confirmed-payroll",
    "papermill": {
     "duration": 0.012372,
     "end_time": "2021-07-07T06:25:38.493022",
     "exception": false,
     "start_time": "2021-07-07T06:25:38.480650",
     "status": "completed"
    },
    "tags": []
   },
   "source": [
    "**Exercise 6: Display `data`**"
   ]
  },
  {
   "cell_type": "code",
   "execution_count": 37,
   "id": "unlike-digit",
   "metadata": {
    "id": "unlike-digit",
    "papermill": {
     "duration": 0.012327,
     "end_time": "2021-07-07T06:25:38.518146",
     "exception": false,
     "start_time": "2021-07-07T06:25:38.505819",
     "status": "completed"
    },
    "tags": []
   },
   "outputs": [
    {
     "name": "stdout",
     "output_type": "stream",
     "text": [
      "+---+---+\n",
      "| v1| v2|\n",
      "+---+---+\n",
      "|  0|  Y|\n",
      "|  1|  O|\n",
      "|  2|  U|\n",
      "|  3|  C|\n",
      "|  4|  A|\n",
      "|  5|  N|\n",
      "|  6|  D|\n",
      "|  7|  O|\n",
      "|  8|  I|\n",
      "|  9|  T|\n",
      "+---+---+\n",
      "\n"
     ]
    }
   ],
   "source": [
    "data.show()"
   ]
  },
  {
   "cell_type": "markdown",
   "id": "distant-trouble",
   "metadata": {
    "id": "distant-trouble",
    "papermill": {
     "duration": 0.013061,
     "end_time": "2021-07-07T06:25:38.544235",
     "exception": false,
     "start_time": "2021-07-07T06:25:38.531174",
     "status": "completed"
    },
    "tags": []
   },
   "source": [
    "**Exercise 7: Display the first 5 rows and the last 3 rows of `data`**"
   ]
  },
  {
   "cell_type": "code",
   "execution_count": 44,
   "id": "broadband-chrome",
   "metadata": {
    "id": "broadband-chrome",
    "papermill": {
     "duration": 0.013146,
     "end_time": "2021-07-07T06:25:38.570235",
     "exception": false,
     "start_time": "2021-07-07T06:25:38.557089",
     "status": "completed"
    },
    "tags": []
   },
   "outputs": [
    {
     "data": {
      "text/plain": [
       "[Row(v1=0, v2='Y'),\n",
       " Row(v1=1, v2='O'),\n",
       " Row(v1=2, v2='U'),\n",
       " Row(v1=3, v2='C'),\n",
       " Row(v1=4, v2='A')]"
      ]
     },
     "execution_count": 44,
     "metadata": {},
     "output_type": "execute_result"
    }
   ],
   "source": [
    "data.head(5)"
   ]
  },
  {
   "cell_type": "code",
   "execution_count": 43,
   "id": "incoming-visit",
   "metadata": {
    "id": "incoming-visit",
    "papermill": {
     "duration": 0.012992,
     "end_time": "2021-07-07T06:25:38.595908",
     "exception": false,
     "start_time": "2021-07-07T06:25:38.582916",
     "status": "completed"
    },
    "tags": []
   },
   "outputs": [
    {
     "data": {
      "text/plain": [
       "[Row(v1=7, v2='O'), Row(v1=8, v2='I'), Row(v1=9, v2='T')]"
      ]
     },
     "execution_count": 43,
     "metadata": {},
     "output_type": "execute_result"
    }
   ],
   "source": [
    "data.tail(3)"
   ]
  },
  {
   "cell_type": "markdown",
   "id": "adapted-familiar",
   "metadata": {
    "id": "adapted-familiar",
    "papermill": {
     "duration": 0.012366,
     "end_time": "2021-07-07T06:25:38.620822",
     "exception": false,
     "start_time": "2021-07-07T06:25:38.608456",
     "status": "completed"
    },
    "tags": []
   },
   "source": [
    "**Exercise 8: Display the number of rows and number of columns in `data`**"
   ]
  },
  {
   "cell_type": "code",
   "execution_count": 49,
   "id": "functional-restoration",
   "metadata": {
    "id": "functional-restoration",
    "papermill": {
     "duration": 0.01223,
     "end_time": "2021-07-07T06:25:38.647209",
     "exception": false,
     "start_time": "2021-07-07T06:25:38.634979",
     "status": "completed"
    },
    "tags": []
   },
   "outputs": [
    {
     "name": "stdout",
     "output_type": "stream",
     "text": [
      "10\n",
      "2\n"
     ]
    }
   ],
   "source": [
    "print(data.count()) \n",
    "print(len(data.columns))"
   ]
  },
  {
   "cell_type": "markdown",
   "id": "molecular-wright",
   "metadata": {
    "id": "molecular-wright",
    "papermill": {
     "duration": 0.013482,
     "end_time": "2021-07-07T06:25:38.698323",
     "exception": false,
     "start_time": "2021-07-07T06:25:38.684841",
     "status": "completed"
    },
    "tags": []
   },
   "source": [
    "**Exercise 9: Display the shape of `data`**"
   ]
  },
  {
   "cell_type": "code",
   "execution_count": 50,
   "id": "minimal-cornell",
   "metadata": {
    "id": "minimal-cornell",
    "papermill": {
     "duration": 0.013086,
     "end_time": "2021-07-07T06:25:38.724169",
     "exception": false,
     "start_time": "2021-07-07T06:25:38.711083",
     "status": "completed"
    },
    "tags": []
   },
   "outputs": [
    {
     "name": "stdout",
     "output_type": "stream",
     "text": [
      "(10, 2)\n"
     ]
    }
   ],
   "source": [
    "print((data.count(), len(data.columns)))"
   ]
  },
  {
   "cell_type": "markdown",
   "id": "impressive-defense",
   "metadata": {
    "id": "impressive-defense",
    "papermill": {
     "duration": 0.01215,
     "end_time": "2021-07-07T06:25:38.749319",
     "exception": false,
     "start_time": "2021-07-07T06:25:38.737169",
     "status": "completed"
    },
    "tags": []
   },
   "source": [
    "**Exercise 10: Display the column names of `data`**"
   ]
  },
  {
   "cell_type": "code",
   "execution_count": 51,
   "id": "executed-tulsa",
   "metadata": {
    "id": "executed-tulsa",
    "papermill": {
     "duration": 0.012154,
     "end_time": "2021-07-07T06:25:38.774192",
     "exception": false,
     "start_time": "2021-07-07T06:25:38.762038",
     "status": "completed"
    },
    "tags": []
   },
   "outputs": [
    {
     "data": {
      "text/plain": [
       "['v1', 'v2']"
      ]
     },
     "execution_count": 51,
     "metadata": {},
     "output_type": "execute_result"
    }
   ],
   "source": [
    "data.columns"
   ]
  },
  {
   "cell_type": "markdown",
   "id": "endangered-physiology",
   "metadata": {
    "id": "endangered-physiology",
    "papermill": {
     "duration": 0.013236,
     "end_time": "2021-07-07T06:25:38.799963",
     "exception": false,
     "start_time": "2021-07-07T06:25:38.786727",
     "status": "completed"
    },
    "tags": []
   },
   "source": [
    "✅ This completes Set 1: PySpark Introduction (Exercises 1-10) \n",
    "\n",
    "Original exercises for Datatable package can be found [here](https://github.com/vopani/datatableton).\n",
    "\n",
    "Pandas version can be found [there](https://github.com/Extremesarova/pandas_exercises)."
   ]
  },
  {
   "cell_type": "markdown",
   "id": "f8f590af",
   "metadata": {},
   "source": []
  }
 ],
 "metadata": {
  "colab": {
   "name": "01_datatable_introduction_exercises.ipynb",
   "provenance": []
  },
  "kernelspec": {
   "display_name": "pyspark_exercises",
   "language": "python",
   "name": "pyspark_exercises"
  },
  "language_info": {
   "codemirror_mode": {
    "name": "ipython",
    "version": 3
   },
   "file_extension": ".py",
   "mimetype": "text/x-python",
   "name": "python",
   "nbconvert_exporter": "python",
   "pygments_lexer": "ipython3",
   "version": "3.10.5"
  },
  "papermill": {
   "default_parameters": {},
   "duration": 9.893322,
   "end_time": "2021-07-07T06:25:40.070449",
   "environment_variables": {},
   "exception": null,
   "input_path": "__notebook__.ipynb",
   "output_path": "__notebook__.ipynb",
   "parameters": {},
   "start_time": "2021-07-07T06:25:30.177127",
   "version": "2.3.3"
  },
  "vscode": {
   "interpreter": {
    "hash": "31f2aee4e71d21fbe5cf8b01ff0e069b9275f58929596ceb00d14d90e3e16cd6"
   }
  }
 },
 "nbformat": 4,
 "nbformat_minor": 5
}
