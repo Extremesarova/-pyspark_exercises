{
 "cells": [
  {
   "cell_type": "markdown",
   "id": "26c3f6c7",
   "metadata": {
    "id": "26c3f6c7",
    "papermill": {
     "duration": 0.018935,
     "end_time": "2021-08-10T08:36:22.596212",
     "exception": false,
     "start_time": "2021-08-10T08:36:22.577277",
     "status": "completed"
    },
    "tags": []
   },
   "source": [
    "<center>\n",
    "    This is Set 5: Column Aggregations (Exercises 41-50)\n",
    "</center>"
   ]
  },
  {
   "cell_type": "markdown",
   "id": "5fa3b84c",
   "metadata": {
    "id": "5fa3b84c",
    "papermill": {
     "duration": 0.01903,
     "end_time": "2021-08-10T08:36:22.634700",
     "exception": false,
     "start_time": "2021-08-10T08:36:22.615670",
     "status": "completed"
    },
    "tags": []
   },
   "source": [
    "**Prerequisites**\n",
    "* The sample dataset [wine](https://scikit-learn.org/stable/modules/generated/sklearn.datasets.load_wine.html) from sklearn will be used for the exercises."
   ]
  },
  {
   "cell_type": "code",
   "execution_count": 3,
   "id": "77350e97",
   "metadata": {
    "_kg_hide-output": true,
    "id": "77350e97",
    "outputId": "fe8c178c-880e-41ad-fb32-bbf30931dcf2",
    "papermill": {
     "duration": 41.464385,
     "end_time": "2021-08-10T08:37:04.118649",
     "exception": false,
     "start_time": "2021-08-10T08:36:22.654264",
     "status": "completed"
    },
    "tags": []
   },
   "outputs": [],
   "source": [
    "# !pip3 install scikit-learn==1.0.2\n"
   ]
  },
  {
   "cell_type": "code",
   "execution_count": 5,
   "id": "5f31e0a5",
   "metadata": {},
   "outputs": [
    {
     "name": "stderr",
     "output_type": "stream",
     "text": [
      "Setting default log level to \"WARN\".\n",
      "To adjust logging level use sc.setLogLevel(newLevel). For SparkR, use setLogLevel(newLevel).\n"
     ]
    },
    {
     "name": "stdout",
     "output_type": "stream",
     "text": [
      "22/07/26 09:07:05 WARN NativeCodeLoader: Unable to load native-hadoop library for your platform... using builtin-java classes where applicable\n"
     ]
    }
   ],
   "source": [
    "from pyspark.sql import SparkSession\n",
    "from pyspark.sql.types import *\n",
    "import pyspark.sql.functions as F\n",
    "\n",
    "spark = SparkSession.builder.getOrCreate()\n"
   ]
  },
  {
   "cell_type": "code",
   "execution_count": 6,
   "id": "7d03b242",
   "metadata": {
    "id": "7d03b242",
    "outputId": "d9c65de8-a8ca-4f41-933d-1015b8f36ad1",
    "papermill": {
     "duration": 1.159853,
     "end_time": "2021-08-10T08:37:05.304291",
     "exception": false,
     "start_time": "2021-08-10T08:37:04.144438",
     "status": "completed"
    },
    "tags": []
   },
   "outputs": [
    {
     "name": "stderr",
     "output_type": "stream",
     "text": [
      "[Stage 0:>                                                          (0 + 1) / 1]\r"
     ]
    },
    {
     "name": "stdout",
     "output_type": "stream",
     "text": [
      "+-------+----------+----+-----------------+---------+-------------+----------+--------------------+---------------+---------------+----+----------------------------+-------+------+\n",
      "|alcohol|malic_acid| ash|alcalinity_of_ash|magnesium|total_phenols|flavanoids|nonflavanoid_phenols|proanthocyanins|color_intensity| hue|od280/od315_of_diluted_wines|proline|target|\n",
      "+-------+----------+----+-----------------+---------+-------------+----------+--------------------+---------------+---------------+----+----------------------------+-------+------+\n",
      "|  14.23|      1.71|2.43|             15.6|    127.0|          2.8|      3.06|                0.28|           2.29|           5.64|1.04|                        3.92| 1065.0|     0|\n",
      "|   13.2|      1.78|2.14|             11.2|    100.0|         2.65|      2.76|                0.26|           1.28|           4.38|1.05|                         3.4| 1050.0|     0|\n",
      "|  13.16|      2.36|2.67|             18.6|    101.0|          2.8|      3.24|                 0.3|           2.81|           5.68|1.03|                        3.17| 1185.0|     0|\n",
      "|  14.37|      1.95| 2.5|             16.8|    113.0|         3.85|      3.49|                0.24|           2.18|            7.8|0.86|                        3.45| 1480.0|     0|\n",
      "|  13.24|      2.59|2.87|             21.0|    118.0|          2.8|      2.69|                0.39|           1.82|           4.32|1.04|                        2.93|  735.0|     0|\n",
      "|   14.2|      1.76|2.45|             15.2|    112.0|         3.27|      3.39|                0.34|           1.97|           6.75|1.05|                        2.85| 1450.0|     0|\n",
      "|  14.39|      1.87|2.45|             14.6|     96.0|          2.5|      2.52|                 0.3|           1.98|           5.25|1.02|                        3.58| 1290.0|     0|\n",
      "|  14.06|      2.15|2.61|             17.6|    121.0|          2.6|      2.51|                0.31|           1.25|           5.05|1.06|                        3.58| 1295.0|     0|\n",
      "|  14.83|      1.64|2.17|             14.0|     97.0|          2.8|      2.98|                0.29|           1.98|            5.2|1.08|                        2.85| 1045.0|     0|\n",
      "|  13.86|      1.35|2.27|             16.0|     98.0|         2.98|      3.15|                0.22|           1.85|           7.22|1.01|                        3.55| 1045.0|     0|\n",
      "|   14.1|      2.16| 2.3|             18.0|    105.0|         2.95|      3.32|                0.22|           2.38|           5.75|1.25|                        3.17| 1510.0|     0|\n",
      "|  14.12|      1.48|2.32|             16.8|     95.0|          2.2|      2.43|                0.26|           1.57|            5.0|1.17|                        2.82| 1280.0|     0|\n",
      "|  13.75|      1.73|2.41|             16.0|     89.0|          2.6|      2.76|                0.29|           1.81|            5.6|1.15|                         2.9| 1320.0|     0|\n",
      "|  14.75|      1.73|2.39|             11.4|     91.0|          3.1|      3.69|                0.43|           2.81|            5.4|1.25|                        2.73| 1150.0|     0|\n",
      "|  14.38|      1.87|2.38|             12.0|    102.0|          3.3|      3.64|                0.29|           2.96|            7.5| 1.2|                         3.0| 1547.0|     0|\n",
      "|  13.63|      1.81| 2.7|             17.2|    112.0|         2.85|      2.91|                 0.3|           1.46|            7.3|1.28|                        2.88| 1310.0|     0|\n",
      "|   14.3|      1.92|2.72|             20.0|    120.0|          2.8|      3.14|                0.33|           1.97|            6.2|1.07|                        2.65| 1280.0|     0|\n",
      "|  13.83|      1.57|2.62|             20.0|    115.0|         2.95|       3.4|                 0.4|           1.72|            6.6|1.13|                        2.57| 1130.0|     0|\n",
      "|  14.19|      1.59|2.48|             16.5|    108.0|          3.3|      3.93|                0.32|           1.86|            8.7|1.23|                        2.82| 1680.0|     0|\n",
      "|  13.64|       3.1|2.56|             15.2|    116.0|          2.7|      3.03|                0.17|           1.66|            5.1|0.96|                        3.36|  845.0|     0|\n",
      "+-------+----------+----+-----------------+---------+-------------+----------+--------------------+---------------+---------------+----+----------------------------+-------+------+\n",
      "only showing top 20 rows\n",
      "\n"
     ]
    },
    {
     "name": "stderr",
     "output_type": "stream",
     "text": [
      "                                                                                \r"
     ]
    }
   ],
   "source": [
    "import pandas as pd\n",
    "from sklearn.datasets import load_wine\n",
    "\n",
    "data = spark.createDataFrame(load_wine(as_frame=True).frame)\n",
    "data.show()\n"
   ]
  },
  {
   "cell_type": "markdown",
   "id": "ae13e459",
   "metadata": {
    "id": "ae13e459",
    "papermill": {
     "duration": 0.026693,
     "end_time": "2021-08-10T08:37:05.358032",
     "exception": false,
     "start_time": "2021-08-10T08:37:05.331339",
     "status": "completed"
    },
    "tags": []
   },
   "source": [
    "**Exercise 41: Calculate the sum of column `ash` in `data`**"
   ]
  },
  {
   "cell_type": "code",
   "execution_count": 11,
   "id": "7174bd84",
   "metadata": {
    "id": "7174bd84",
    "papermill": {
     "duration": 0.02624,
     "end_time": "2021-08-10T08:37:05.411549",
     "exception": false,
     "start_time": "2021-08-10T08:37:05.385309",
     "status": "completed"
    },
    "tags": []
   },
   "outputs": [
    {
     "data": {
      "text/plain": [
       "421.24"
      ]
     },
     "execution_count": 11,
     "metadata": {},
     "output_type": "execute_result"
    }
   ],
   "source": [
    "data.agg(F.sum(data[\"ash\"])).collect()[0][0]\n"
   ]
  },
  {
   "cell_type": "markdown",
   "id": "b3d0b026",
   "metadata": {
    "id": "b3d0b026",
    "papermill": {
     "duration": 0.026452,
     "end_time": "2021-08-10T08:37:05.464490",
     "exception": false,
     "start_time": "2021-08-10T08:37:05.438038",
     "status": "completed"
    },
    "tags": []
   },
   "source": [
    "**Exercise 42: Calculate the average value of each column in `data`**"
   ]
  },
  {
   "cell_type": "code",
   "execution_count": 29,
   "id": "d0631472",
   "metadata": {
    "id": "d0631472",
    "papermill": {
     "duration": 0.026243,
     "end_time": "2021-08-10T08:37:05.518457",
     "exception": false,
     "start_time": "2021-08-10T08:37:05.492214",
     "status": "completed"
    },
    "tags": []
   },
   "outputs": [
    {
     "data": {
      "text/plain": [
       "{'alcohol': 13.00061797752809,\n",
       " 'malic_acid': 2.3363483146067416,\n",
       " 'ash': 2.3665168539325845,\n",
       " 'alcalinity_of_ash': 19.49494382022472,\n",
       " 'magnesium': 99.74157303370787,\n",
       " 'total_phenols': 2.295112359550562,\n",
       " 'flavanoids': 2.0292696629213487,\n",
       " 'nonflavanoid_phenols': 0.36185393258426973,\n",
       " 'proanthocyanins': 1.590898876404494,\n",
       " 'color_intensity': 5.058089882022472,\n",
       " 'hue': 0.9574494382022471,\n",
       " 'od280/od315_of_diluted_wines': 2.611685393258427,\n",
       " 'proline': 746.8932584269663,\n",
       " 'target': 0.9382022471910112}"
      ]
     },
     "execution_count": 29,
     "metadata": {},
     "output_type": "execute_result"
    }
   ],
   "source": [
    "data.agg(*[F.mean(col).alias(col) for col in data.columns]).first().asDict()\n"
   ]
  },
  {
   "cell_type": "markdown",
   "id": "494e5f23",
   "metadata": {
    "id": "494e5f23",
    "papermill": {
     "duration": 0.026426,
     "end_time": "2021-08-10T08:37:05.571328",
     "exception": false,
     "start_time": "2021-08-10T08:37:05.544902",
     "status": "completed"
    },
    "tags": []
   },
   "source": [
    "**Exercise 43: Calculate the minimum value and maximum value of each column in `data` where `target` is 1**"
   ]
  },
  {
   "cell_type": "code",
   "execution_count": 36,
   "id": "272e2691",
   "metadata": {},
   "outputs": [
    {
     "data": {
      "text/plain": [
       "{'min(alcohol)': 11.03,\n",
       " 'min(malic_acid)': 0.74,\n",
       " 'min(ash)': 1.36,\n",
       " 'min(alcalinity_of_ash)': 10.6,\n",
       " 'min(magnesium)': 70.0,\n",
       " 'min(total_phenols)': 1.1,\n",
       " 'min(flavanoids)': 0.57,\n",
       " 'min(nonflavanoid_phenols)': 0.13,\n",
       " 'min(proanthocyanins)': 0.41,\n",
       " 'min(color_intensity)': 1.28,\n",
       " 'min(hue)': 0.69,\n",
       " 'min(od280/od315_of_diluted_wines)': 1.59,\n",
       " 'min(proline)': 278.0,\n",
       " 'min(target)': 1}"
      ]
     },
     "execution_count": 36,
     "metadata": {},
     "output_type": "execute_result"
    }
   ],
   "source": [
    "data.where(data[\"target\"]==1).groupBy().min().first().asDict()"
   ]
  },
  {
   "cell_type": "code",
   "execution_count": 37,
   "id": "bf9d187e",
   "metadata": {
    "id": "bf9d187e",
    "papermill": {
     "duration": 0.026173,
     "end_time": "2021-08-10T08:37:05.623978",
     "exception": false,
     "start_time": "2021-08-10T08:37:05.597805",
     "status": "completed"
    },
    "tags": []
   },
   "outputs": [
    {
     "data": {
      "text/plain": [
       "{'max(alcohol)': 13.86,\n",
       " 'max(malic_acid)': 5.8,\n",
       " 'max(ash)': 3.23,\n",
       " 'max(alcalinity_of_ash)': 30.0,\n",
       " 'max(magnesium)': 162.0,\n",
       " 'max(total_phenols)': 3.52,\n",
       " 'max(flavanoids)': 5.08,\n",
       " 'max(nonflavanoid_phenols)': 0.66,\n",
       " 'max(proanthocyanins)': 3.58,\n",
       " 'max(color_intensity)': 6.0,\n",
       " 'max(hue)': 1.71,\n",
       " 'max(od280/od315_of_diluted_wines)': 3.69,\n",
       " 'max(proline)': 985.0,\n",
       " 'max(target)': 1}"
      ]
     },
     "execution_count": 37,
     "metadata": {},
     "output_type": "execute_result"
    }
   ],
   "source": [
    "data.where(data[\"target\"]==1).groupBy().max().first().asDict()"
   ]
  },
  {
   "cell_type": "markdown",
   "id": "f9a75409",
   "metadata": {
    "id": "f9a75409",
    "papermill": {
     "duration": 0.026174,
     "end_time": "2021-08-10T08:37:05.729542",
     "exception": false,
     "start_time": "2021-08-10T08:37:05.703368",
     "status": "completed"
    },
    "tags": []
   },
   "source": [
    "**Exercise 44: Calculate the median value of columns `flavanoids`, `hue` and `magnesium` in `data`**"
   ]
  },
  {
   "cell_type": "code",
   "execution_count": 45,
   "id": "8295ae18",
   "metadata": {
    "id": "8295ae18",
    "papermill": {
     "duration": 0.02635,
     "end_time": "2021-08-10T08:37:05.782623",
     "exception": false,
     "start_time": "2021-08-10T08:37:05.756273",
     "status": "completed"
    },
    "tags": []
   },
   "outputs": [
    {
     "data": {
      "text/plain": [
       "[[2.13], [0.96], [98.0]]"
      ]
     },
     "execution_count": 45,
     "metadata": {},
     "output_type": "execute_result"
    }
   ],
   "source": [
    "cols = [\"flavanoids\", \"hue\", \"magnesium\"]\n",
    "\n",
    "data.approxQuantile(cols, [0.5], 0.0)"
   ]
  },
  {
   "cell_type": "markdown",
   "id": "c425d4a6",
   "metadata": {
    "id": "c425d4a6",
    "papermill": {
     "duration": 0.026589,
     "end_time": "2021-08-10T08:37:05.836052",
     "exception": false,
     "start_time": "2021-08-10T08:37:05.809463",
     "status": "completed"
    },
    "tags": []
   },
   "source": [
    "**Exercise 45: Calculate the mode of columns `alcohol` and `proline` in `data`**"
   ]
  },
  {
   "cell_type": "code",
   "execution_count": 49,
   "id": "8ef50155",
   "metadata": {},
   "outputs": [
    {
     "data": {
      "text/plain": [
       "[['alcohol', 13.05], ['proline', 680.0]]"
      ]
     },
     "execution_count": 49,
     "metadata": {},
     "output_type": "execute_result"
    }
   ],
   "source": [
    "[[i, data.groupby(i).count().orderBy(\"count\", ascending=False).first()[0]] for i in [\"alcohol\", \"proline\"]]\n"
   ]
  },
  {
   "cell_type": "markdown",
   "id": "ce983433",
   "metadata": {
    "id": "ce983433",
    "papermill": {
     "duration": 0.027771,
     "end_time": "2021-08-10T08:37:05.946645",
     "exception": false,
     "start_time": "2021-08-10T08:37:05.918874",
     "status": "completed"
    },
    "tags": []
   },
   "source": [
    "**Exercise 46: Calculate the standard deviation, skewness and excess kurtosis of each column in `data`**"
   ]
  },
  {
   "cell_type": "code",
   "execution_count": 8,
   "id": "5a891bd5",
   "metadata": {
    "id": "5a891bd5",
    "papermill": {
     "duration": 0.026982,
     "end_time": "2021-08-10T08:37:06.000936",
     "exception": false,
     "start_time": "2021-08-10T08:37:05.973954",
     "status": "completed"
    },
    "tags": []
   },
   "outputs": [
    {
     "data": {
      "text/html": [
       "<div>\n",
       "<style scoped>\n",
       "    .dataframe tbody tr th:only-of-type {\n",
       "        vertical-align: middle;\n",
       "    }\n",
       "\n",
       "    .dataframe tbody tr th {\n",
       "        vertical-align: top;\n",
       "    }\n",
       "\n",
       "    .dataframe thead th {\n",
       "        text-align: right;\n",
       "    }\n",
       "</style>\n",
       "<table border=\"1\" class=\"dataframe\">\n",
       "  <thead>\n",
       "    <tr style=\"text-align: right;\">\n",
       "      <th></th>\n",
       "      <th>alcohol</th>\n",
       "      <th>malic_acid</th>\n",
       "      <th>ash</th>\n",
       "      <th>alcalinity_of_ash</th>\n",
       "      <th>magnesium</th>\n",
       "      <th>total_phenols</th>\n",
       "      <th>flavanoids</th>\n",
       "      <th>nonflavanoid_phenols</th>\n",
       "      <th>proanthocyanins</th>\n",
       "      <th>color_intensity</th>\n",
       "      <th>hue</th>\n",
       "      <th>od280/od315_of_diluted_wines</th>\n",
       "      <th>proline</th>\n",
       "      <th>target</th>\n",
       "    </tr>\n",
       "  </thead>\n",
       "  <tbody>\n",
       "    <tr>\n",
       "      <th>std</th>\n",
       "      <td>0.811827</td>\n",
       "      <td>1.117146</td>\n",
       "      <td>0.274344</td>\n",
       "      <td>3.339564</td>\n",
       "      <td>14.282484</td>\n",
       "      <td>0.625851</td>\n",
       "      <td>0.998859</td>\n",
       "      <td>0.124453</td>\n",
       "      <td>0.572359</td>\n",
       "      <td>2.318286</td>\n",
       "      <td>0.228572</td>\n",
       "      <td>0.709990</td>\n",
       "      <td>314.907474</td>\n",
       "      <td>0.775035</td>\n",
       "    </tr>\n",
       "    <tr>\n",
       "      <th>skew</th>\n",
       "      <td>-0.051482</td>\n",
       "      <td>1.039651</td>\n",
       "      <td>-0.176699</td>\n",
       "      <td>0.213047</td>\n",
       "      <td>1.098191</td>\n",
       "      <td>0.086639</td>\n",
       "      <td>0.025344</td>\n",
       "      <td>0.450151</td>\n",
       "      <td>0.517137</td>\n",
       "      <td>0.868585</td>\n",
       "      <td>0.021091</td>\n",
       "      <td>-0.307285</td>\n",
       "      <td>0.767822</td>\n",
       "      <td>0.107431</td>\n",
       "    </tr>\n",
       "    <tr>\n",
       "      <th>kurtosis</th>\n",
       "      <td>-0.852500</td>\n",
       "      <td>0.299207</td>\n",
       "      <td>1.143978</td>\n",
       "      <td>0.487942</td>\n",
       "      <td>2.104991</td>\n",
       "      <td>-0.835627</td>\n",
       "      <td>-0.880382</td>\n",
       "      <td>-0.637191</td>\n",
       "      <td>0.554649</td>\n",
       "      <td>0.381522</td>\n",
       "      <td>-0.344096</td>\n",
       "      <td>-1.086435</td>\n",
       "      <td>-0.248403</td>\n",
       "      <td>-1.322787</td>\n",
       "    </tr>\n",
       "  </tbody>\n",
       "</table>\n",
       "</div>"
      ],
      "text/plain": [
       "           alcohol  malic_acid       ash  alcalinity_of_ash  magnesium  \\\n",
       "std       0.811827    1.117146  0.274344           3.339564  14.282484   \n",
       "skew     -0.051482    1.039651 -0.176699           0.213047   1.098191   \n",
       "kurtosis -0.852500    0.299207  1.143978           0.487942   2.104991   \n",
       "\n",
       "          total_phenols  flavanoids  nonflavanoid_phenols  proanthocyanins  \\\n",
       "std            0.625851    0.998859              0.124453         0.572359   \n",
       "skew           0.086639    0.025344              0.450151         0.517137   \n",
       "kurtosis      -0.835627   -0.880382             -0.637191         0.554649   \n",
       "\n",
       "          color_intensity       hue  od280/od315_of_diluted_wines     proline  \\\n",
       "std              2.318286  0.228572                      0.709990  314.907474   \n",
       "skew             0.868585  0.021091                     -0.307285    0.767822   \n",
       "kurtosis         0.381522 -0.344096                     -1.086435   -0.248403   \n",
       "\n",
       "            target  \n",
       "std       0.775035  \n",
       "skew      0.107431  \n",
       "kurtosis -1.322787  "
      ]
     },
     "execution_count": 8,
     "metadata": {},
     "output_type": "execute_result"
    }
   ],
   "source": [
    "data.agg([\"std\", \"skew\", \"kurtosis\"])\n"
   ]
  },
  {
   "cell_type": "markdown",
   "id": "4bea7d84",
   "metadata": {
    "id": "4bea7d84",
    "papermill": {
     "duration": 0.027156,
     "end_time": "2021-08-10T08:37:06.164264",
     "exception": false,
     "start_time": "2021-08-10T08:37:06.137108",
     "status": "completed"
    },
    "tags": []
   },
   "source": [
    "**Exercise 47: Calculate the number of unique values in each column of `data`**"
   ]
  },
  {
   "cell_type": "code",
   "execution_count": 9,
   "id": "7378bb86",
   "metadata": {
    "id": "7378bb86",
    "papermill": {
     "duration": 0.026315,
     "end_time": "2021-08-10T08:37:06.217695",
     "exception": false,
     "start_time": "2021-08-10T08:37:06.191380",
     "status": "completed"
    },
    "tags": []
   },
   "outputs": [
    {
     "data": {
      "text/plain": [
       "alcohol                         126\n",
       "malic_acid                      133\n",
       "ash                              79\n",
       "alcalinity_of_ash                63\n",
       "magnesium                        53\n",
       "total_phenols                    97\n",
       "flavanoids                      132\n",
       "nonflavanoid_phenols             39\n",
       "proanthocyanins                 101\n",
       "color_intensity                 132\n",
       "hue                              78\n",
       "od280/od315_of_diluted_wines    122\n",
       "proline                         121\n",
       "target                            3\n",
       "dtype: int64"
      ]
     },
     "execution_count": 9,
     "metadata": {},
     "output_type": "execute_result"
    }
   ],
   "source": [
    "data.nunique(axis=0)\n"
   ]
  },
  {
   "cell_type": "markdown",
   "id": "81c748d4",
   "metadata": {
    "id": "81c748d4",
    "papermill": {
     "duration": 0.026282,
     "end_time": "2021-08-10T08:37:06.270864",
     "exception": false,
     "start_time": "2021-08-10T08:37:06.244582",
     "status": "completed"
    },
    "tags": []
   },
   "source": [
    "**Exercise 48: Calculate the covariance between columns `alcohol` and `color_intensity` in `data`**"
   ]
  },
  {
   "cell_type": "code",
   "execution_count": 10,
   "id": "8ae90b82",
   "metadata": {
    "id": "8ae90b82",
    "papermill": {
     "duration": 0.026217,
     "end_time": "2021-08-10T08:37:06.323747",
     "exception": false,
     "start_time": "2021-08-10T08:37:06.297530",
     "status": "completed"
    },
    "tags": []
   },
   "outputs": [
    {
     "data": {
      "text/plain": [
       "1.0282825443106076"
      ]
     },
     "execution_count": 10,
     "metadata": {},
     "output_type": "execute_result"
    }
   ],
   "source": [
    "data[[\"alcohol\", \"color_intensity\"]].cov().loc[\"alcohol\", \"color_intensity\"]\n"
   ]
  },
  {
   "cell_type": "markdown",
   "id": "66518e93",
   "metadata": {
    "id": "66518e93",
    "papermill": {
     "duration": 0.026554,
     "end_time": "2021-08-10T08:37:06.377028",
     "exception": false,
     "start_time": "2021-08-10T08:37:06.350474",
     "status": "completed"
    },
    "tags": []
   },
   "source": [
    "**Exercise 49: Calculate the correlation between columns `hue` and `color_intensity` in `data`**"
   ]
  },
  {
   "cell_type": "code",
   "execution_count": 11,
   "id": "c2d515e1",
   "metadata": {
    "id": "c2d515e1",
    "papermill": {
     "duration": 0.027446,
     "end_time": "2021-08-10T08:37:06.431091",
     "exception": false,
     "start_time": "2021-08-10T08:37:06.403645",
     "status": "completed"
    },
    "tags": []
   },
   "outputs": [
    {
     "data": {
      "text/plain": [
       "-0.5218131932287572"
      ]
     },
     "execution_count": 11,
     "metadata": {},
     "output_type": "execute_result"
    }
   ],
   "source": [
    "data[[\"hue\", \"color_intensity\"]].corr().loc[\"hue\", \"color_intensity\"]\n"
   ]
  },
  {
   "cell_type": "markdown",
   "id": "6d59dbf9",
   "metadata": {
    "id": "6d59dbf9",
    "papermill": {
     "duration": 0.026344,
     "end_time": "2021-08-10T08:37:06.484277",
     "exception": false,
     "start_time": "2021-08-10T08:37:06.457933",
     "status": "completed"
    },
    "tags": []
   },
   "source": [
    "**Exercise 50: Calculate the correlation matrix between all pairs of columns in `data` and assign it to `corr_matrix`**"
   ]
  },
  {
   "cell_type": "code",
   "execution_count": 12,
   "id": "60ec0700",
   "metadata": {
    "id": "60ec0700",
    "papermill": {
     "duration": 0.026806,
     "end_time": "2021-08-10T08:37:06.538082",
     "exception": false,
     "start_time": "2021-08-10T08:37:06.511276",
     "status": "completed"
    },
    "tags": []
   },
   "outputs": [
    {
     "data": {
      "text/html": [
       "<div>\n",
       "<style scoped>\n",
       "    .dataframe tbody tr th:only-of-type {\n",
       "        vertical-align: middle;\n",
       "    }\n",
       "\n",
       "    .dataframe tbody tr th {\n",
       "        vertical-align: top;\n",
       "    }\n",
       "\n",
       "    .dataframe thead th {\n",
       "        text-align: right;\n",
       "    }\n",
       "</style>\n",
       "<table border=\"1\" class=\"dataframe\">\n",
       "  <thead>\n",
       "    <tr style=\"text-align: right;\">\n",
       "      <th></th>\n",
       "      <th>alcohol</th>\n",
       "      <th>malic_acid</th>\n",
       "      <th>ash</th>\n",
       "      <th>alcalinity_of_ash</th>\n",
       "      <th>magnesium</th>\n",
       "      <th>total_phenols</th>\n",
       "      <th>flavanoids</th>\n",
       "      <th>nonflavanoid_phenols</th>\n",
       "      <th>proanthocyanins</th>\n",
       "      <th>color_intensity</th>\n",
       "      <th>hue</th>\n",
       "      <th>od280/od315_of_diluted_wines</th>\n",
       "      <th>proline</th>\n",
       "      <th>target</th>\n",
       "    </tr>\n",
       "  </thead>\n",
       "  <tbody>\n",
       "    <tr>\n",
       "      <th>alcohol</th>\n",
       "      <td>1.00</td>\n",
       "      <td>0.09</td>\n",
       "      <td>0.21</td>\n",
       "      <td>-0.31</td>\n",
       "      <td>0.27</td>\n",
       "      <td>0.29</td>\n",
       "      <td>0.24</td>\n",
       "      <td>-0.16</td>\n",
       "      <td>0.14</td>\n",
       "      <td>0.55</td>\n",
       "      <td>-0.07</td>\n",
       "      <td>0.07</td>\n",
       "      <td>0.64</td>\n",
       "      <td>-0.33</td>\n",
       "    </tr>\n",
       "    <tr>\n",
       "      <th>malic_acid</th>\n",
       "      <td>0.09</td>\n",
       "      <td>1.00</td>\n",
       "      <td>0.16</td>\n",
       "      <td>0.29</td>\n",
       "      <td>-0.05</td>\n",
       "      <td>-0.34</td>\n",
       "      <td>-0.41</td>\n",
       "      <td>0.29</td>\n",
       "      <td>-0.22</td>\n",
       "      <td>0.25</td>\n",
       "      <td>-0.56</td>\n",
       "      <td>-0.37</td>\n",
       "      <td>-0.19</td>\n",
       "      <td>0.44</td>\n",
       "    </tr>\n",
       "    <tr>\n",
       "      <th>ash</th>\n",
       "      <td>0.21</td>\n",
       "      <td>0.16</td>\n",
       "      <td>1.00</td>\n",
       "      <td>0.44</td>\n",
       "      <td>0.29</td>\n",
       "      <td>0.13</td>\n",
       "      <td>0.12</td>\n",
       "      <td>0.19</td>\n",
       "      <td>0.01</td>\n",
       "      <td>0.26</td>\n",
       "      <td>-0.07</td>\n",
       "      <td>0.00</td>\n",
       "      <td>0.22</td>\n",
       "      <td>-0.05</td>\n",
       "    </tr>\n",
       "    <tr>\n",
       "      <th>alcalinity_of_ash</th>\n",
       "      <td>-0.31</td>\n",
       "      <td>0.29</td>\n",
       "      <td>0.44</td>\n",
       "      <td>1.00</td>\n",
       "      <td>-0.08</td>\n",
       "      <td>-0.32</td>\n",
       "      <td>-0.35</td>\n",
       "      <td>0.36</td>\n",
       "      <td>-0.20</td>\n",
       "      <td>0.02</td>\n",
       "      <td>-0.27</td>\n",
       "      <td>-0.28</td>\n",
       "      <td>-0.44</td>\n",
       "      <td>0.52</td>\n",
       "    </tr>\n",
       "    <tr>\n",
       "      <th>magnesium</th>\n",
       "      <td>0.27</td>\n",
       "      <td>-0.05</td>\n",
       "      <td>0.29</td>\n",
       "      <td>-0.08</td>\n",
       "      <td>1.00</td>\n",
       "      <td>0.21</td>\n",
       "      <td>0.20</td>\n",
       "      <td>-0.26</td>\n",
       "      <td>0.24</td>\n",
       "      <td>0.20</td>\n",
       "      <td>0.06</td>\n",
       "      <td>0.07</td>\n",
       "      <td>0.39</td>\n",
       "      <td>-0.21</td>\n",
       "    </tr>\n",
       "    <tr>\n",
       "      <th>total_phenols</th>\n",
       "      <td>0.29</td>\n",
       "      <td>-0.34</td>\n",
       "      <td>0.13</td>\n",
       "      <td>-0.32</td>\n",
       "      <td>0.21</td>\n",
       "      <td>1.00</td>\n",
       "      <td>0.86</td>\n",
       "      <td>-0.45</td>\n",
       "      <td>0.61</td>\n",
       "      <td>-0.06</td>\n",
       "      <td>0.43</td>\n",
       "      <td>0.70</td>\n",
       "      <td>0.50</td>\n",
       "      <td>-0.72</td>\n",
       "    </tr>\n",
       "    <tr>\n",
       "      <th>flavanoids</th>\n",
       "      <td>0.24</td>\n",
       "      <td>-0.41</td>\n",
       "      <td>0.12</td>\n",
       "      <td>-0.35</td>\n",
       "      <td>0.20</td>\n",
       "      <td>0.86</td>\n",
       "      <td>1.00</td>\n",
       "      <td>-0.54</td>\n",
       "      <td>0.65</td>\n",
       "      <td>-0.17</td>\n",
       "      <td>0.54</td>\n",
       "      <td>0.79</td>\n",
       "      <td>0.49</td>\n",
       "      <td>-0.85</td>\n",
       "    </tr>\n",
       "    <tr>\n",
       "      <th>nonflavanoid_phenols</th>\n",
       "      <td>-0.16</td>\n",
       "      <td>0.29</td>\n",
       "      <td>0.19</td>\n",
       "      <td>0.36</td>\n",
       "      <td>-0.26</td>\n",
       "      <td>-0.45</td>\n",
       "      <td>-0.54</td>\n",
       "      <td>1.00</td>\n",
       "      <td>-0.37</td>\n",
       "      <td>0.14</td>\n",
       "      <td>-0.26</td>\n",
       "      <td>-0.50</td>\n",
       "      <td>-0.31</td>\n",
       "      <td>0.49</td>\n",
       "    </tr>\n",
       "    <tr>\n",
       "      <th>proanthocyanins</th>\n",
       "      <td>0.14</td>\n",
       "      <td>-0.22</td>\n",
       "      <td>0.01</td>\n",
       "      <td>-0.20</td>\n",
       "      <td>0.24</td>\n",
       "      <td>0.61</td>\n",
       "      <td>0.65</td>\n",
       "      <td>-0.37</td>\n",
       "      <td>1.00</td>\n",
       "      <td>-0.03</td>\n",
       "      <td>0.30</td>\n",
       "      <td>0.52</td>\n",
       "      <td>0.33</td>\n",
       "      <td>-0.50</td>\n",
       "    </tr>\n",
       "    <tr>\n",
       "      <th>color_intensity</th>\n",
       "      <td>0.55</td>\n",
       "      <td>0.25</td>\n",
       "      <td>0.26</td>\n",
       "      <td>0.02</td>\n",
       "      <td>0.20</td>\n",
       "      <td>-0.06</td>\n",
       "      <td>-0.17</td>\n",
       "      <td>0.14</td>\n",
       "      <td>-0.03</td>\n",
       "      <td>1.00</td>\n",
       "      <td>-0.52</td>\n",
       "      <td>-0.43</td>\n",
       "      <td>0.32</td>\n",
       "      <td>0.27</td>\n",
       "    </tr>\n",
       "    <tr>\n",
       "      <th>hue</th>\n",
       "      <td>-0.07</td>\n",
       "      <td>-0.56</td>\n",
       "      <td>-0.07</td>\n",
       "      <td>-0.27</td>\n",
       "      <td>0.06</td>\n",
       "      <td>0.43</td>\n",
       "      <td>0.54</td>\n",
       "      <td>-0.26</td>\n",
       "      <td>0.30</td>\n",
       "      <td>-0.52</td>\n",
       "      <td>1.00</td>\n",
       "      <td>0.57</td>\n",
       "      <td>0.24</td>\n",
       "      <td>-0.62</td>\n",
       "    </tr>\n",
       "    <tr>\n",
       "      <th>od280/od315_of_diluted_wines</th>\n",
       "      <td>0.07</td>\n",
       "      <td>-0.37</td>\n",
       "      <td>0.00</td>\n",
       "      <td>-0.28</td>\n",
       "      <td>0.07</td>\n",
       "      <td>0.70</td>\n",
       "      <td>0.79</td>\n",
       "      <td>-0.50</td>\n",
       "      <td>0.52</td>\n",
       "      <td>-0.43</td>\n",
       "      <td>0.57</td>\n",
       "      <td>1.00</td>\n",
       "      <td>0.31</td>\n",
       "      <td>-0.79</td>\n",
       "    </tr>\n",
       "    <tr>\n",
       "      <th>proline</th>\n",
       "      <td>0.64</td>\n",
       "      <td>-0.19</td>\n",
       "      <td>0.22</td>\n",
       "      <td>-0.44</td>\n",
       "      <td>0.39</td>\n",
       "      <td>0.50</td>\n",
       "      <td>0.49</td>\n",
       "      <td>-0.31</td>\n",
       "      <td>0.33</td>\n",
       "      <td>0.32</td>\n",
       "      <td>0.24</td>\n",
       "      <td>0.31</td>\n",
       "      <td>1.00</td>\n",
       "      <td>-0.63</td>\n",
       "    </tr>\n",
       "    <tr>\n",
       "      <th>target</th>\n",
       "      <td>-0.33</td>\n",
       "      <td>0.44</td>\n",
       "      <td>-0.05</td>\n",
       "      <td>0.52</td>\n",
       "      <td>-0.21</td>\n",
       "      <td>-0.72</td>\n",
       "      <td>-0.85</td>\n",
       "      <td>0.49</td>\n",
       "      <td>-0.50</td>\n",
       "      <td>0.27</td>\n",
       "      <td>-0.62</td>\n",
       "      <td>-0.79</td>\n",
       "      <td>-0.63</td>\n",
       "      <td>1.00</td>\n",
       "    </tr>\n",
       "  </tbody>\n",
       "</table>\n",
       "</div>"
      ],
      "text/plain": [
       "                              alcohol  malic_acid   ash  alcalinity_of_ash  \\\n",
       "alcohol                          1.00        0.09  0.21              -0.31   \n",
       "malic_acid                       0.09        1.00  0.16               0.29   \n",
       "ash                              0.21        0.16  1.00               0.44   \n",
       "alcalinity_of_ash               -0.31        0.29  0.44               1.00   \n",
       "magnesium                        0.27       -0.05  0.29              -0.08   \n",
       "total_phenols                    0.29       -0.34  0.13              -0.32   \n",
       "flavanoids                       0.24       -0.41  0.12              -0.35   \n",
       "nonflavanoid_phenols            -0.16        0.29  0.19               0.36   \n",
       "proanthocyanins                  0.14       -0.22  0.01              -0.20   \n",
       "color_intensity                  0.55        0.25  0.26               0.02   \n",
       "hue                             -0.07       -0.56 -0.07              -0.27   \n",
       "od280/od315_of_diluted_wines     0.07       -0.37  0.00              -0.28   \n",
       "proline                          0.64       -0.19  0.22              -0.44   \n",
       "target                          -0.33        0.44 -0.05               0.52   \n",
       "\n",
       "                              magnesium  total_phenols  flavanoids  \\\n",
       "alcohol                            0.27           0.29        0.24   \n",
       "malic_acid                        -0.05          -0.34       -0.41   \n",
       "ash                                0.29           0.13        0.12   \n",
       "alcalinity_of_ash                 -0.08          -0.32       -0.35   \n",
       "magnesium                          1.00           0.21        0.20   \n",
       "total_phenols                      0.21           1.00        0.86   \n",
       "flavanoids                         0.20           0.86        1.00   \n",
       "nonflavanoid_phenols              -0.26          -0.45       -0.54   \n",
       "proanthocyanins                    0.24           0.61        0.65   \n",
       "color_intensity                    0.20          -0.06       -0.17   \n",
       "hue                                0.06           0.43        0.54   \n",
       "od280/od315_of_diluted_wines       0.07           0.70        0.79   \n",
       "proline                            0.39           0.50        0.49   \n",
       "target                            -0.21          -0.72       -0.85   \n",
       "\n",
       "                              nonflavanoid_phenols  proanthocyanins  \\\n",
       "alcohol                                      -0.16             0.14   \n",
       "malic_acid                                    0.29            -0.22   \n",
       "ash                                           0.19             0.01   \n",
       "alcalinity_of_ash                             0.36            -0.20   \n",
       "magnesium                                    -0.26             0.24   \n",
       "total_phenols                                -0.45             0.61   \n",
       "flavanoids                                   -0.54             0.65   \n",
       "nonflavanoid_phenols                          1.00            -0.37   \n",
       "proanthocyanins                              -0.37             1.00   \n",
       "color_intensity                               0.14            -0.03   \n",
       "hue                                          -0.26             0.30   \n",
       "od280/od315_of_diluted_wines                 -0.50             0.52   \n",
       "proline                                      -0.31             0.33   \n",
       "target                                        0.49            -0.50   \n",
       "\n",
       "                              color_intensity   hue  \\\n",
       "alcohol                                  0.55 -0.07   \n",
       "malic_acid                               0.25 -0.56   \n",
       "ash                                      0.26 -0.07   \n",
       "alcalinity_of_ash                        0.02 -0.27   \n",
       "magnesium                                0.20  0.06   \n",
       "total_phenols                           -0.06  0.43   \n",
       "flavanoids                              -0.17  0.54   \n",
       "nonflavanoid_phenols                     0.14 -0.26   \n",
       "proanthocyanins                         -0.03  0.30   \n",
       "color_intensity                          1.00 -0.52   \n",
       "hue                                     -0.52  1.00   \n",
       "od280/od315_of_diluted_wines            -0.43  0.57   \n",
       "proline                                  0.32  0.24   \n",
       "target                                   0.27 -0.62   \n",
       "\n",
       "                              od280/od315_of_diluted_wines  proline  target  \n",
       "alcohol                                               0.07     0.64   -0.33  \n",
       "malic_acid                                           -0.37    -0.19    0.44  \n",
       "ash                                                   0.00     0.22   -0.05  \n",
       "alcalinity_of_ash                                    -0.28    -0.44    0.52  \n",
       "magnesium                                             0.07     0.39   -0.21  \n",
       "total_phenols                                         0.70     0.50   -0.72  \n",
       "flavanoids                                            0.79     0.49   -0.85  \n",
       "nonflavanoid_phenols                                 -0.50    -0.31    0.49  \n",
       "proanthocyanins                                       0.52     0.33   -0.50  \n",
       "color_intensity                                      -0.43     0.32    0.27  \n",
       "hue                                                   0.57     0.24   -0.62  \n",
       "od280/od315_of_diluted_wines                          1.00     0.31   -0.79  \n",
       "proline                                               0.31     1.00   -0.63  \n",
       "target                                               -0.79    -0.63    1.00  "
      ]
     },
     "execution_count": 12,
     "metadata": {},
     "output_type": "execute_result"
    }
   ],
   "source": [
    "corr_matrix = data.corr().round(2)\n",
    "corr_matrix\n"
   ]
  },
  {
   "cell_type": "markdown",
   "id": "ab3b4bcc",
   "metadata": {
    "id": "ab3b4bcc",
    "papermill": {
     "duration": 0.026545,
     "end_time": "2021-08-10T08:37:06.591695",
     "exception": false,
     "start_time": "2021-08-10T08:37:06.565150",
     "status": "completed"
    },
    "tags": []
   },
   "source": [
    "✅ This completes Set 5: Column Aggregations (Exercises 41-50)  \n",
    "Original exercises for Datatable package can be found [here](https://github.com/vopani/datatableton)"
   ]
  }
 ],
 "metadata": {
  "colab": {
   "name": "05_column_aggregations_exercises.ipynb",
   "provenance": []
  },
  "kernelspec": {
   "display_name": "pyspark_exercises",
   "language": "python",
   "name": "pyspark_exercises"
  },
  "language_info": {
   "codemirror_mode": {
    "name": "ipython",
    "version": 3
   },
   "file_extension": ".py",
   "mimetype": "text/x-python",
   "name": "python",
   "nbconvert_exporter": "python",
   "pygments_lexer": "ipython3",
   "version": "3.10.5"
  },
  "papermill": {
   "default_parameters": {},
   "duration": 53.883329,
   "end_time": "2021-08-10T08:37:07.930368",
   "environment_variables": {},
   "exception": null,
   "input_path": "__notebook__.ipynb",
   "output_path": "__notebook__.ipynb",
   "parameters": {},
   "start_time": "2021-08-10T08:36:14.047039",
   "version": "2.3.3"
  }
 },
 "nbformat": 4,
 "nbformat_minor": 5
}
