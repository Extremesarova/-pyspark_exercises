{
 "cells": [
  {
   "cell_type": "markdown",
   "id": "26c3f6c7",
   "metadata": {
    "id": "26c3f6c7",
    "papermill": {
     "duration": 0.018935,
     "end_time": "2021-08-10T08:36:22.596212",
     "exception": false,
     "start_time": "2021-08-10T08:36:22.577277",
     "status": "completed"
    },
    "tags": []
   },
   "source": [
    "<center>\n",
    "    This is Set 5: Column Aggregations (Exercises 41-50)\n",
    "</center>"
   ]
  },
  {
   "cell_type": "markdown",
   "id": "5fa3b84c",
   "metadata": {
    "id": "5fa3b84c",
    "papermill": {
     "duration": 0.01903,
     "end_time": "2021-08-10T08:36:22.634700",
     "exception": false,
     "start_time": "2021-08-10T08:36:22.615670",
     "status": "completed"
    },
    "tags": []
   },
   "source": [
    "**Prerequisites**\n",
    "* The sample dataset [wine](https://scikit-learn.org/stable/modules/generated/sklearn.datasets.load_wine.html) from sklearn will be used for the exercises."
   ]
  },
  {
   "cell_type": "code",
   "execution_count": 3,
   "id": "77350e97",
   "metadata": {
    "_kg_hide-output": true,
    "id": "77350e97",
    "outputId": "fe8c178c-880e-41ad-fb32-bbf30931dcf2",
    "papermill": {
     "duration": 41.464385,
     "end_time": "2021-08-10T08:37:04.118649",
     "exception": false,
     "start_time": "2021-08-10T08:36:22.654264",
     "status": "completed"
    },
    "tags": []
   },
   "outputs": [],
   "source": [
    "# !pip3 install scikit-learn==1.0.2\n"
   ]
  },
  {
   "cell_type": "code",
   "execution_count": 1,
   "id": "5f31e0a5",
   "metadata": {},
   "outputs": [
    {
     "name": "stderr",
     "output_type": "stream",
     "text": [
      "Setting default log level to \"WARN\".\n",
      "To adjust logging level use sc.setLogLevel(newLevel). For SparkR, use setLogLevel(newLevel).\n"
     ]
    },
    {
     "name": "stdout",
     "output_type": "stream",
     "text": [
      "22/07/27 16:48:07 WARN NativeCodeLoader: Unable to load native-hadoop library for your platform... using builtin-java classes where applicable\n"
     ]
    }
   ],
   "source": [
    "from pyspark.sql import SparkSession\n",
    "from pyspark.sql.types import *\n",
    "import pyspark.sql.functions as F\n",
    "\n",
    "spark = SparkSession.builder.getOrCreate()\n"
   ]
  },
  {
   "cell_type": "code",
   "execution_count": 2,
   "id": "7d03b242",
   "metadata": {
    "id": "7d03b242",
    "outputId": "d9c65de8-a8ca-4f41-933d-1015b8f36ad1",
    "papermill": {
     "duration": 1.159853,
     "end_time": "2021-08-10T08:37:05.304291",
     "exception": false,
     "start_time": "2021-08-10T08:37:04.144438",
     "status": "completed"
    },
    "tags": []
   },
   "outputs": [
    {
     "name": "stderr",
     "output_type": "stream",
     "text": [
      "[Stage 0:>                                                          (0 + 1) / 1]\r"
     ]
    },
    {
     "name": "stdout",
     "output_type": "stream",
     "text": [
      "+-------+----------+----+-----------------+---------+-------------+----------+--------------------+---------------+---------------+----+----------------------------+-------+------+\n",
      "|alcohol|malic_acid| ash|alcalinity_of_ash|magnesium|total_phenols|flavanoids|nonflavanoid_phenols|proanthocyanins|color_intensity| hue|od280/od315_of_diluted_wines|proline|target|\n",
      "+-------+----------+----+-----------------+---------+-------------+----------+--------------------+---------------+---------------+----+----------------------------+-------+------+\n",
      "|  14.23|      1.71|2.43|             15.6|    127.0|          2.8|      3.06|                0.28|           2.29|           5.64|1.04|                        3.92| 1065.0|     0|\n",
      "|   13.2|      1.78|2.14|             11.2|    100.0|         2.65|      2.76|                0.26|           1.28|           4.38|1.05|                         3.4| 1050.0|     0|\n",
      "|  13.16|      2.36|2.67|             18.6|    101.0|          2.8|      3.24|                 0.3|           2.81|           5.68|1.03|                        3.17| 1185.0|     0|\n",
      "|  14.37|      1.95| 2.5|             16.8|    113.0|         3.85|      3.49|                0.24|           2.18|            7.8|0.86|                        3.45| 1480.0|     0|\n",
      "|  13.24|      2.59|2.87|             21.0|    118.0|          2.8|      2.69|                0.39|           1.82|           4.32|1.04|                        2.93|  735.0|     0|\n",
      "|   14.2|      1.76|2.45|             15.2|    112.0|         3.27|      3.39|                0.34|           1.97|           6.75|1.05|                        2.85| 1450.0|     0|\n",
      "|  14.39|      1.87|2.45|             14.6|     96.0|          2.5|      2.52|                 0.3|           1.98|           5.25|1.02|                        3.58| 1290.0|     0|\n",
      "|  14.06|      2.15|2.61|             17.6|    121.0|          2.6|      2.51|                0.31|           1.25|           5.05|1.06|                        3.58| 1295.0|     0|\n",
      "|  14.83|      1.64|2.17|             14.0|     97.0|          2.8|      2.98|                0.29|           1.98|            5.2|1.08|                        2.85| 1045.0|     0|\n",
      "|  13.86|      1.35|2.27|             16.0|     98.0|         2.98|      3.15|                0.22|           1.85|           7.22|1.01|                        3.55| 1045.0|     0|\n",
      "|   14.1|      2.16| 2.3|             18.0|    105.0|         2.95|      3.32|                0.22|           2.38|           5.75|1.25|                        3.17| 1510.0|     0|\n",
      "|  14.12|      1.48|2.32|             16.8|     95.0|          2.2|      2.43|                0.26|           1.57|            5.0|1.17|                        2.82| 1280.0|     0|\n",
      "|  13.75|      1.73|2.41|             16.0|     89.0|          2.6|      2.76|                0.29|           1.81|            5.6|1.15|                         2.9| 1320.0|     0|\n",
      "|  14.75|      1.73|2.39|             11.4|     91.0|          3.1|      3.69|                0.43|           2.81|            5.4|1.25|                        2.73| 1150.0|     0|\n",
      "|  14.38|      1.87|2.38|             12.0|    102.0|          3.3|      3.64|                0.29|           2.96|            7.5| 1.2|                         3.0| 1547.0|     0|\n",
      "|  13.63|      1.81| 2.7|             17.2|    112.0|         2.85|      2.91|                 0.3|           1.46|            7.3|1.28|                        2.88| 1310.0|     0|\n",
      "|   14.3|      1.92|2.72|             20.0|    120.0|          2.8|      3.14|                0.33|           1.97|            6.2|1.07|                        2.65| 1280.0|     0|\n",
      "|  13.83|      1.57|2.62|             20.0|    115.0|         2.95|       3.4|                 0.4|           1.72|            6.6|1.13|                        2.57| 1130.0|     0|\n",
      "|  14.19|      1.59|2.48|             16.5|    108.0|          3.3|      3.93|                0.32|           1.86|            8.7|1.23|                        2.82| 1680.0|     0|\n",
      "|  13.64|       3.1|2.56|             15.2|    116.0|          2.7|      3.03|                0.17|           1.66|            5.1|0.96|                        3.36|  845.0|     0|\n",
      "+-------+----------+----+-----------------+---------+-------------+----------+--------------------+---------------+---------------+----+----------------------------+-------+------+\n",
      "only showing top 20 rows\n",
      "\n"
     ]
    },
    {
     "name": "stderr",
     "output_type": "stream",
     "text": [
      "                                                                                \r"
     ]
    }
   ],
   "source": [
    "import pandas as pd\n",
    "from sklearn.datasets import load_wine\n",
    "\n",
    "data = spark.createDataFrame(load_wine(as_frame=True).frame)\n",
    "data.show()\n"
   ]
  },
  {
   "cell_type": "markdown",
   "id": "ae13e459",
   "metadata": {
    "id": "ae13e459",
    "papermill": {
     "duration": 0.026693,
     "end_time": "2021-08-10T08:37:05.358032",
     "exception": false,
     "start_time": "2021-08-10T08:37:05.331339",
     "status": "completed"
    },
    "tags": []
   },
   "source": [
    "**Exercise 41: Calculate the sum of column `ash` in `data`**"
   ]
  },
  {
   "cell_type": "code",
   "execution_count": 3,
   "id": "7174bd84",
   "metadata": {
    "id": "7174bd84",
    "papermill": {
     "duration": 0.02624,
     "end_time": "2021-08-10T08:37:05.411549",
     "exception": false,
     "start_time": "2021-08-10T08:37:05.385309",
     "status": "completed"
    },
    "tags": []
   },
   "outputs": [
    {
     "name": "stderr",
     "output_type": "stream",
     "text": [
      "                                                                                \r"
     ]
    },
    {
     "data": {
      "text/plain": [
       "421.24"
      ]
     },
     "execution_count": 3,
     "metadata": {},
     "output_type": "execute_result"
    }
   ],
   "source": [
    "data.agg(F.sum(data[\"ash\"])).collect()[0][0]\n"
   ]
  },
  {
   "cell_type": "markdown",
   "id": "b3d0b026",
   "metadata": {
    "id": "b3d0b026",
    "papermill": {
     "duration": 0.026452,
     "end_time": "2021-08-10T08:37:05.464490",
     "exception": false,
     "start_time": "2021-08-10T08:37:05.438038",
     "status": "completed"
    },
    "tags": []
   },
   "source": [
    "**Exercise 42: Calculate the average value of each column in `data`**"
   ]
  },
  {
   "cell_type": "code",
   "execution_count": 4,
   "id": "d0631472",
   "metadata": {
    "id": "d0631472",
    "papermill": {
     "duration": 0.026243,
     "end_time": "2021-08-10T08:37:05.518457",
     "exception": false,
     "start_time": "2021-08-10T08:37:05.492214",
     "status": "completed"
    },
    "tags": []
   },
   "outputs": [
    {
     "name": "stdout",
     "output_type": "stream",
     "text": [
      "22/07/27 16:48:24 WARN package: Truncated the string representation of a plan since it was too large. This behavior can be adjusted by setting 'spark.sql.debug.maxToStringFields'.\n"
     ]
    },
    {
     "data": {
      "text/plain": [
       "{'alcohol': 13.00061797752809,\n",
       " 'malic_acid': 2.3363483146067416,\n",
       " 'ash': 2.3665168539325845,\n",
       " 'alcalinity_of_ash': 19.49494382022472,\n",
       " 'magnesium': 99.74157303370787,\n",
       " 'total_phenols': 2.295112359550562,\n",
       " 'flavanoids': 2.0292696629213487,\n",
       " 'nonflavanoid_phenols': 0.36185393258426973,\n",
       " 'proanthocyanins': 1.590898876404494,\n",
       " 'color_intensity': 5.058089882022472,\n",
       " 'hue': 0.9574494382022471,\n",
       " 'od280/od315_of_diluted_wines': 2.611685393258427,\n",
       " 'proline': 746.8932584269663,\n",
       " 'target': 0.9382022471910112}"
      ]
     },
     "execution_count": 4,
     "metadata": {},
     "output_type": "execute_result"
    }
   ],
   "source": [
    "data.agg(*[F.mean(col).alias(col) for col in data.columns]).first().asDict()\n"
   ]
  },
  {
   "cell_type": "markdown",
   "id": "494e5f23",
   "metadata": {
    "id": "494e5f23",
    "papermill": {
     "duration": 0.026426,
     "end_time": "2021-08-10T08:37:05.571328",
     "exception": false,
     "start_time": "2021-08-10T08:37:05.544902",
     "status": "completed"
    },
    "tags": []
   },
   "source": [
    "**Exercise 43: Calculate the minimum value and maximum value of each column in `data` where `target` is 1**"
   ]
  },
  {
   "cell_type": "code",
   "execution_count": 5,
   "id": "272e2691",
   "metadata": {},
   "outputs": [
    {
     "data": {
      "text/plain": [
       "{'min(alcohol)': 11.03,\n",
       " 'min(malic_acid)': 0.74,\n",
       " 'min(ash)': 1.36,\n",
       " 'min(alcalinity_of_ash)': 10.6,\n",
       " 'min(magnesium)': 70.0,\n",
       " 'min(total_phenols)': 1.1,\n",
       " 'min(flavanoids)': 0.57,\n",
       " 'min(nonflavanoid_phenols)': 0.13,\n",
       " 'min(proanthocyanins)': 0.41,\n",
       " 'min(color_intensity)': 1.28,\n",
       " 'min(hue)': 0.69,\n",
       " 'min(od280/od315_of_diluted_wines)': 1.59,\n",
       " 'min(proline)': 278.0,\n",
       " 'min(target)': 1}"
      ]
     },
     "execution_count": 5,
     "metadata": {},
     "output_type": "execute_result"
    }
   ],
   "source": [
    "data.where(data[\"target\"] == 1).groupBy().min().first().asDict()\n"
   ]
  },
  {
   "cell_type": "code",
   "execution_count": 6,
   "id": "bf9d187e",
   "metadata": {
    "id": "bf9d187e",
    "papermill": {
     "duration": 0.026173,
     "end_time": "2021-08-10T08:37:05.623978",
     "exception": false,
     "start_time": "2021-08-10T08:37:05.597805",
     "status": "completed"
    },
    "tags": []
   },
   "outputs": [
    {
     "data": {
      "text/plain": [
       "{'max(alcohol)': 13.86,\n",
       " 'max(malic_acid)': 5.8,\n",
       " 'max(ash)': 3.23,\n",
       " 'max(alcalinity_of_ash)': 30.0,\n",
       " 'max(magnesium)': 162.0,\n",
       " 'max(total_phenols)': 3.52,\n",
       " 'max(flavanoids)': 5.08,\n",
       " 'max(nonflavanoid_phenols)': 0.66,\n",
       " 'max(proanthocyanins)': 3.58,\n",
       " 'max(color_intensity)': 6.0,\n",
       " 'max(hue)': 1.71,\n",
       " 'max(od280/od315_of_diluted_wines)': 3.69,\n",
       " 'max(proline)': 985.0,\n",
       " 'max(target)': 1}"
      ]
     },
     "execution_count": 6,
     "metadata": {},
     "output_type": "execute_result"
    }
   ],
   "source": [
    "data.where(data[\"target\"] == 1).groupBy().max().first().asDict()\n"
   ]
  },
  {
   "cell_type": "markdown",
   "id": "f9a75409",
   "metadata": {
    "id": "f9a75409",
    "papermill": {
     "duration": 0.026174,
     "end_time": "2021-08-10T08:37:05.729542",
     "exception": false,
     "start_time": "2021-08-10T08:37:05.703368",
     "status": "completed"
    },
    "tags": []
   },
   "source": [
    "**Exercise 44: Calculate the median value of columns `flavanoids`, `hue` and `magnesium` in `data`**"
   ]
  },
  {
   "cell_type": "code",
   "execution_count": 7,
   "id": "8295ae18",
   "metadata": {
    "id": "8295ae18",
    "papermill": {
     "duration": 0.02635,
     "end_time": "2021-08-10T08:37:05.782623",
     "exception": false,
     "start_time": "2021-08-10T08:37:05.756273",
     "status": "completed"
    },
    "tags": []
   },
   "outputs": [
    {
     "name": "stderr",
     "output_type": "stream",
     "text": [
      "                                                                                \r"
     ]
    },
    {
     "data": {
      "text/plain": [
       "[[2.13], [0.96], [98.0]]"
      ]
     },
     "execution_count": 7,
     "metadata": {},
     "output_type": "execute_result"
    }
   ],
   "source": [
    "cols = [\"flavanoids\", \"hue\", \"magnesium\"]\n",
    "\n",
    "data.approxQuantile(cols, [0.5], 0.0)\n"
   ]
  },
  {
   "cell_type": "markdown",
   "id": "c425d4a6",
   "metadata": {
    "id": "c425d4a6",
    "papermill": {
     "duration": 0.026589,
     "end_time": "2021-08-10T08:37:05.836052",
     "exception": false,
     "start_time": "2021-08-10T08:37:05.809463",
     "status": "completed"
    },
    "tags": []
   },
   "source": [
    "**Exercise 45: Calculate the mode of columns `alcohol` and `proline` in `data`**"
   ]
  },
  {
   "cell_type": "code",
   "execution_count": 8,
   "id": "8ef50155",
   "metadata": {},
   "outputs": [
    {
     "name": "stderr",
     "output_type": "stream",
     "text": [
      "                                                                                \r"
     ]
    },
    {
     "data": {
      "text/plain": [
       "[['alcohol', 13.05], ['proline', 680.0]]"
      ]
     },
     "execution_count": 8,
     "metadata": {},
     "output_type": "execute_result"
    }
   ],
   "source": [
    "[\n",
    "    [i, data.groupby(i).count().orderBy(\"count\", ascending=False).first()[0]]\n",
    "    for i in [\"alcohol\", \"proline\"]\n",
    "]\n"
   ]
  },
  {
   "cell_type": "markdown",
   "id": "ce983433",
   "metadata": {
    "id": "ce983433",
    "papermill": {
     "duration": 0.027771,
     "end_time": "2021-08-10T08:37:05.946645",
     "exception": false,
     "start_time": "2021-08-10T08:37:05.918874",
     "status": "completed"
    },
    "tags": []
   },
   "source": [
    "**Exercise 46: Calculate the standard deviation, skewness and excess kurtosis of each column in `data`**"
   ]
  },
  {
   "cell_type": "code",
   "execution_count": 15,
   "id": "a308b56f",
   "metadata": {},
   "outputs": [
    {
     "data": {
      "text/plain": [
       "({'alcohol': 0.8118265380058572,\n",
       "  'malic_acid': 1.1171460976144627,\n",
       "  'ash': 0.2743440090608149,\n",
       "  'alcalinity_of_ash': 3.3395637671735043,\n",
       "  'magnesium': 14.282483515295668,\n",
       "  'total_phenols': 0.625851048833989,\n",
       "  'flavanoids': 0.9988586850169469,\n",
       "  'nonflavanoid_phenols': 0.12445334029667937,\n",
       "  'proanthocyanins': 0.5723588626747612,\n",
       "  'color_intensity': 2.3182858718224124,\n",
       "  'hue': 0.22857156582982333,\n",
       "  'od280/od315_of_diluted_wines': 0.7099904287650505,\n",
       "  'proline': 314.9074742768491,\n",
       "  'target': 0.7750349899850563},\n",
       " {'alcohol': -0.05104747165391558,\n",
       "  'malic_acid': 1.0308694978039965,\n",
       "  'ash': -0.1752067779255995,\n",
       "  'alcalinity_of_ash': 0.21124732832155288,\n",
       "  'magnesium': 1.0889148872107,\n",
       "  'total_phenols': 0.08590677016719506,\n",
       "  'flavanoids': 0.025129482208429043,\n",
       "  'nonflavanoid_phenols': 0.44634901064702137,\n",
       "  'proanthocyanins': 0.5127690334109941,\n",
       "  'color_intensity': 0.8612480547740538,\n",
       "  'hue': 0.020913119068882262,\n",
       "  'od280/od315_of_diluted_wines': -0.3046899289436109,\n",
       "  'proline': 0.7613361671993631,\n",
       "  'target': 0.10652367756095243},\n",
       " {'alcohol': -0.8622600987701734,\n",
       "  'malic_acid': 0.257348285833094,\n",
       "  'ash': 1.0785761323125502,\n",
       "  'alcalinity_of_ash': 0.44082313690028574,\n",
       "  'magnesium': 2.0128060084773853,\n",
       "  'total_phenols': -0.8458573026752298,\n",
       "  'flavanoids': -0.8893650113675182,\n",
       "  'nonflavanoid_phenols': -0.6529522070380396,\n",
       "  'proanthocyanins': 0.5056710064108283,\n",
       "  'color_intensity': 0.33736975669801605,\n",
       "  'hue': -0.3680254027059786,\n",
       "  'od280/od315_of_diluted_wines': -1.0896753288585042,\n",
       "  'proline': -0.2749997054982445,\n",
       "  'target': -1.3194403801420118})"
      ]
     },
     "execution_count": 15,
     "metadata": {},
     "output_type": "execute_result"
    }
   ],
   "source": [
    "std = data.agg(*[F.stddev(col).alias(col) for col in data.columns]).first().asDict()\n",
    "skew = data.agg(*[F.skewness(col).alias(col) for col in data.columns]).first().asDict()\n",
    "kurtosis = (\n",
    "    data.agg(*[F.kurtosis(col).alias(col) for col in data.columns]).first().asDict()\n",
    ")\n",
    "\n",
    "std, skew, kurtosis\n"
   ]
  },
  {
   "cell_type": "markdown",
   "id": "4bea7d84",
   "metadata": {
    "id": "4bea7d84",
    "papermill": {
     "duration": 0.027156,
     "end_time": "2021-08-10T08:37:06.164264",
     "exception": false,
     "start_time": "2021-08-10T08:37:06.137108",
     "status": "completed"
    },
    "tags": []
   },
   "source": [
    "**Exercise 47: Calculate the number of unique values in each column of `data`**"
   ]
  },
  {
   "cell_type": "code",
   "execution_count": 18,
   "id": "7378bb86",
   "metadata": {
    "id": "7378bb86",
    "papermill": {
     "duration": 0.026315,
     "end_time": "2021-08-10T08:37:06.217695",
     "exception": false,
     "start_time": "2021-08-10T08:37:06.191380",
     "status": "completed"
    },
    "tags": []
   },
   "outputs": [
    {
     "name": "stdout",
     "output_type": "stream",
     "text": [
      "+-------+----------+---+-----------------+---------+-------------+----------+--------------------+---------------+---------------+---+----------------------------+-------+------+\n",
      "|alcohol|malic_acid|ash|alcalinity_of_ash|magnesium|total_phenols|flavanoids|nonflavanoid_phenols|proanthocyanins|color_intensity|hue|od280/od315_of_diluted_wines|proline|target|\n",
      "+-------+----------+---+-----------------+---------+-------------+----------+--------------------+---------------+---------------+---+----------------------------+-------+------+\n",
      "|    126|       133| 79|               63|       53|           97|       132|                  39|            101|            132| 78|                         122|    121|     3|\n",
      "+-------+----------+---+-----------------+---------+-------------+----------+--------------------+---------------+---------------+---+----------------------------+-------+------+\n",
      "\n"
     ]
    }
   ],
   "source": [
    "data.agg(*(F.countDistinct(F.col(c)).alias(c) for c in data.columns)).show()\n"
   ]
  },
  {
   "cell_type": "markdown",
   "id": "81c748d4",
   "metadata": {
    "id": "81c748d4",
    "papermill": {
     "duration": 0.026282,
     "end_time": "2021-08-10T08:37:06.270864",
     "exception": false,
     "start_time": "2021-08-10T08:37:06.244582",
     "status": "completed"
    },
    "tags": []
   },
   "source": [
    "**Exercise 48: Calculate the covariance between columns `alcohol` and `color_intensity` in `data`**"
   ]
  },
  {
   "cell_type": "code",
   "execution_count": 21,
   "id": "32620a82",
   "metadata": {},
   "outputs": [
    {
     "name": "stdout",
     "output_type": "stream",
     "text": [
      "+------------------+\n",
      "|               cov|\n",
      "+------------------+\n",
      "|1.0282825443106072|\n",
      "+------------------+\n",
      "\n"
     ]
    }
   ],
   "source": [
    "data.agg(F.covar_samp(\"alcohol\", \"color_intensity\").alias(\"cov\")).show()\n"
   ]
  },
  {
   "cell_type": "markdown",
   "id": "66518e93",
   "metadata": {
    "id": "66518e93",
    "papermill": {
     "duration": 0.026554,
     "end_time": "2021-08-10T08:37:06.377028",
     "exception": false,
     "start_time": "2021-08-10T08:37:06.350474",
     "status": "completed"
    },
    "tags": []
   },
   "source": [
    "**Exercise 49: Calculate the correlation between columns `hue` and `color_intensity` in `data`**"
   ]
  },
  {
   "cell_type": "code",
   "execution_count": 22,
   "id": "30be5a2f",
   "metadata": {},
   "outputs": [
    {
     "name": "stdout",
     "output_type": "stream",
     "text": [
      "+-------------------+\n",
      "|               corr|\n",
      "+-------------------+\n",
      "|-0.5218131932287573|\n",
      "+-------------------+\n",
      "\n"
     ]
    }
   ],
   "source": [
    "data.agg(F.corr(\"hue\", \"color_intensity\").alias(\"corr\")).show()\n"
   ]
  },
  {
   "cell_type": "markdown",
   "id": "6d59dbf9",
   "metadata": {
    "id": "6d59dbf9",
    "papermill": {
     "duration": 0.026344,
     "end_time": "2021-08-10T08:37:06.484277",
     "exception": false,
     "start_time": "2021-08-10T08:37:06.457933",
     "status": "completed"
    },
    "tags": []
   },
   "source": [
    "**Exercise 50: Calculate the correlation matrix between all pairs of columns in `data` and assign it to `corr_matrix`**"
   ]
  },
  {
   "cell_type": "code",
   "execution_count": 24,
   "id": "4a73b80c",
   "metadata": {},
   "outputs": [],
   "source": [
    "from pyspark.ml.stat import Correlation\n",
    "from pyspark.ml.feature import VectorAssembler\n",
    "\n",
    "# convert to vector column first\n",
    "vector_col = \"corr_features\"\n",
    "assembler = VectorAssembler(inputCols=data.columns, outputCol=vector_col)\n",
    "df_vector = assembler.transform(data).select(vector_col)\n",
    "\n",
    "# get correlation matrix\n",
    "matrix = Correlation.corr(df_vector, vector_col)\n"
   ]
  },
  {
   "cell_type": "code",
   "execution_count": 32,
   "id": "614698a1",
   "metadata": {},
   "outputs": [
    {
     "data": {
      "text/plain": [
       "array([ 1.        ,  0.09439694,  0.2115446 , -0.31023514,  0.27079823,\n",
       "        0.28910112,  0.23681493, -0.15592947,  0.13669791,  0.5463642 ,\n",
       "       -0.0717472 ,  0.07234319,  0.64372004, -0.32822194,  0.09439694,\n",
       "        1.        ,  0.16404547,  0.2885004 , -0.0545751 , -0.335167  ,\n",
       "       -0.41100659,  0.29297713, -0.22074619,  0.24898534, -0.56129569,\n",
       "       -0.36871043, -0.19201056,  0.4377762 ,  0.2115446 ,  0.16404547,\n",
       "        1.        ,  0.44336719,  0.28658669,  0.12897954,  0.11507728,\n",
       "        0.18623045,  0.00965194,  0.25888726, -0.07466689,  0.00391123,\n",
       "        0.22362626, -0.04964322, -0.31023514,  0.2885004 ,  0.44336719,\n",
       "        1.        , -0.08333309, -0.32111332, -0.35136986,  0.36192172,\n",
       "       -0.19732684,  0.01873198, -0.27395522, -0.27676855, -0.44059693,\n",
       "        0.51785911,  0.27079823, -0.0545751 ,  0.28658669, -0.08333309,\n",
       "        1.        ,  0.21440123,  0.19578377, -0.25629405,  0.23644061,\n",
       "        0.19995001,  0.0553982 ,  0.06600394,  0.39335085, -0.20917939,\n",
       "        0.28910112, -0.335167  ,  0.12897954, -0.32111332,  0.21440123,\n",
       "        1.        ,  0.8645635 , -0.4499353 ,  0.61241308, -0.05513642,\n",
       "        0.43368134,  0.69994936,  0.49811488, -0.71916334,  0.23681493,\n",
       "       -0.41100659,  0.11507728, -0.35136986,  0.19578377,  0.8645635 ,\n",
       "        1.        , -0.53789961,  0.65269177, -0.1723794 ,  0.54347857,\n",
       "        0.7871939 ,  0.49419313, -0.84749754, -0.15592947,  0.29297713,\n",
       "        0.18623045,  0.36192172, -0.25629405, -0.4499353 , -0.53789961,\n",
       "        1.        , -0.3658451 ,  0.13905701, -0.26263963, -0.5032696 ,\n",
       "       -0.31138519,  0.48910916,  0.13669791, -0.22074619,  0.00965194,\n",
       "       -0.19732684,  0.23644061,  0.61241308,  0.65269177, -0.3658451 ,\n",
       "        1.        , -0.02524993,  0.29554425,  0.5190671 ,  0.3304167 ,\n",
       "       -0.49912982,  0.5463642 ,  0.24898534,  0.25888726,  0.01873198,\n",
       "        0.19995001, -0.05513642, -0.1723794 ,  0.13905701, -0.02524993,\n",
       "        1.        , -0.52181319, -0.42881494,  0.31610011,  0.26566757,\n",
       "       -0.0717472 , -0.56129569, -0.07466689, -0.27395522,  0.0553982 ,\n",
       "        0.43368134,  0.54347857, -0.26263963,  0.29554425, -0.52181319,\n",
       "        1.        ,  0.56546829,  0.23618345, -0.61736921,  0.07234319,\n",
       "       -0.36871043,  0.00391123, -0.27676855,  0.06600394,  0.69994936,\n",
       "        0.7871939 , -0.5032696 ,  0.5190671 , -0.42881494,  0.56546829,\n",
       "        1.        ,  0.31276108, -0.78822959,  0.64372004, -0.19201056,\n",
       "        0.22362626, -0.44059693,  0.39335085,  0.49811488,  0.49419313,\n",
       "       -0.31138519,  0.3304167 ,  0.31610011,  0.23618345,  0.31276108,\n",
       "        1.        , -0.63371678, -0.32822194,  0.4377762 , -0.04964322,\n",
       "        0.51785911, -0.20917939, -0.71916334, -0.84749754,  0.48910916,\n",
       "       -0.49912982,  0.26566757, -0.61736921, -0.78822959, -0.63371678,\n",
       "        1.        ])"
      ]
     },
     "execution_count": 32,
     "metadata": {},
     "output_type": "execute_result"
    }
   ],
   "source": [
    "matrix.collect()[0][0].values\n"
   ]
  },
  {
   "cell_type": "markdown",
   "id": "ab3b4bcc",
   "metadata": {
    "id": "ab3b4bcc",
    "papermill": {
     "duration": 0.026545,
     "end_time": "2021-08-10T08:37:06.591695",
     "exception": false,
     "start_time": "2021-08-10T08:37:06.565150",
     "status": "completed"
    },
    "tags": []
   },
   "source": [
    "✅ This completes Set 5: Column Aggregations (Exercises 41-50)  \n",
    "\n",
    "Original exercises for Datatable package can be found [here](https://github.com/vopani/datatableton).\n",
    "\n",
    "Pandas version can be found [there](https://github.com/Extremesarova/pandas_exercises)."
   ]
  }
 ],
 "metadata": {
  "colab": {
   "name": "05_column_aggregations_exercises.ipynb",
   "provenance": []
  },
  "kernelspec": {
   "display_name": "pyspark_exercises",
   "language": "python",
   "name": "pyspark_exercises"
  },
  "language_info": {
   "codemirror_mode": {
    "name": "ipython",
    "version": 3
   },
   "file_extension": ".py",
   "mimetype": "text/x-python",
   "name": "python",
   "nbconvert_exporter": "python",
   "pygments_lexer": "ipython3",
   "version": "3.10.5"
  },
  "papermill": {
   "default_parameters": {},
   "duration": 53.883329,
   "end_time": "2021-08-10T08:37:07.930368",
   "environment_variables": {},
   "exception": null,
   "input_path": "__notebook__.ipynb",
   "output_path": "__notebook__.ipynb",
   "parameters": {},
   "start_time": "2021-08-10T08:36:14.047039",
   "version": "2.3.3"
  }
 },
 "nbformat": 4,
 "nbformat_minor": 5
}
